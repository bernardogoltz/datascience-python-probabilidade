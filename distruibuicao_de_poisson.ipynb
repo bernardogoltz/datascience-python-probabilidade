{
  "nbformat": 4,
  "nbformat_minor": 0,
  "metadata": {
    "colab": {
      "name": "distruibuicao_de_poisson",
      "provenance": [],
      "authorship_tag": "ABX9TyO7cIEJpmqBGuYiLJg9A6MT",
      "include_colab_link": true
    },
    "kernelspec": {
      "name": "python3",
      "display_name": "Python 3"
    },
    "language_info": {
      "name": "python"
    }
  },
  "cells": [
    {
      "cell_type": "markdown",
      "metadata": {
        "id": "view-in-github",
        "colab_type": "text"
      },
      "source": [
        "<a href=\"https://colab.research.google.com/github/bernardogoltz/datascience_python_probabilidade/blob/main/distruibuicao_de_poisson.ipynb\" target=\"_parent\"><img src=\"https://colab.research.google.com/assets/colab-badge.svg\" alt=\"Open In Colab\"/></a>"
      ]
    },
    {
      "cell_type": "markdown",
      "source": [
        "# Distruibuicao de Poisson"
      ],
      "metadata": {
        "id": "x1vJ7jnp86eB"
      }
    },
    {
      "cell_type": "code",
      "execution_count": 3,
      "metadata": {
        "colab": {
          "base_uri": "https://localhost:8080/"
        },
        "id": "PDuYCpBI8dbD",
        "outputId": "3043d333-36e5-41c7-f9d2-e894287ca8bd"
      },
      "outputs": [
        {
          "output_type": "execute_result",
          "data": {
            "text/plain": [
              "2.718281828459045"
            ]
          },
          "metadata": {},
          "execution_count": 3
        }
      ],
      "source": [
        "import numpy as np\n",
        "np.e"
      ]
    },
    {
      "cell_type": "markdown",
      "source": [
        "# Problemas"
      ],
      "metadata": {
        "id": "_XuHUVlk-RIA"
      }
    },
    {
      "cell_type": "markdown",
      "source": [
        "##### **Delivery:** Um restaurante recebe, em média, 20 pedidos por hora. Qual a chance de que, em determinada hora escolhida ao acaso, o restaurante receba 15 pedidos?\n",
        "\n"
      ],
      "metadata": {
        "id": "vS-f5778-Vz9"
      }
    },
    {
      "cell_type": "code",
      "source": [
        "# numero medio de ocorrencias por hora?\n",
        "\n",
        "media = 20 # pedidos por hora \n",
        "media"
      ],
      "metadata": {
        "colab": {
          "base_uri": "https://localhost:8080/"
        },
        "id": "Zb-Fuo_c-Z7D",
        "outputId": "a2a6b943-d382-492b-dbdd-b15b20c23cfd"
      },
      "execution_count": 5,
      "outputs": [
        {
          "output_type": "execute_result",
          "data": {
            "text/plain": [
              "20"
            ]
          },
          "metadata": {},
          "execution_count": 5
        }
      ]
    },
    {
      "cell_type": "code",
      "source": [
        "# numero de ocorrencias no periodo desejado\n",
        "\n",
        "k = 15 # numero de sucessos no intervalo desejado"
      ],
      "metadata": {
        "id": "-uuWWD9E-tq-"
      },
      "execution_count": 6,
      "outputs": []
    },
    {
      "cell_type": "code",
      "source": [
        "probabilidade = (np.e ** (-media))*(media ** k) / (np.math.factorial(k))\n",
        "probabilidade*100"
      ],
      "metadata": {
        "colab": {
          "base_uri": "https://localhost:8080/"
        },
        "id": "-42upw59-2nw",
        "outputId": "ade6d3a2-00a8-4a66-d8c9-ecc57e5e649b"
      },
      "execution_count": 8,
      "outputs": [
        {
          "output_type": "execute_result",
          "data": {
            "text/plain": [
              "5.1648853531758405"
            ]
          },
          "metadata": {},
          "execution_count": 8
        }
      ]
    },
    {
      "cell_type": "code",
      "source": [
        "# solução otimizada\n",
        "from scipy.stats import poisson\n",
        "\n",
        "probabilidade = poisson.pmf(k,media)\n",
        "probabilidade"
      ],
      "metadata": {
        "colab": {
          "base_uri": "https://localhost:8080/"
        },
        "id": "8euzFCx3BTB_",
        "outputId": "3ed0ec67-04c1-4c7e-e8a1-556fefe246f9"
      },
      "execution_count": 9,
      "outputs": [
        {
          "output_type": "execute_result",
          "data": {
            "text/plain": [
              "0.05164885353175814"
            ]
          },
          "metadata": {},
          "execution_count": 9
        }
      ]
    },
    {
      "cell_type": "markdown",
      "source": [
        "##### **Padaria:** O número médio de clientes que entram em uma padaria por hora é igual a 20. Obtenha a probabilidade de, na próxima hora, entrarem exatamente 25 clientes."
      ],
      "metadata": {
        "id": "D6GRlbxLCZGN"
      }
    },
    {
      "cell_type": "code",
      "source": [
        "media = 20 \n",
        "k = 25\n",
        "probabilidade = poisson.pmf(k,media)\n",
        "probabilidade*100"
      ],
      "metadata": {
        "colab": {
          "base_uri": "https://localhost:8080/"
        },
        "id": "xRtFrGf4Cd_6",
        "outputId": "f1a9b0e4-1e3a-4de1-bbc0-8f78d4a2ab29"
      },
      "execution_count": 25,
      "outputs": [
        {
          "output_type": "execute_result",
          "data": {
            "text/plain": [
              "4.458764910826764"
            ]
          },
          "metadata": {},
          "execution_count": 25
        }
      ]
    }
  ]
}