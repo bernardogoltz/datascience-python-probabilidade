{
  "nbformat": 4,
  "nbformat_minor": 0,
  "metadata": {
    "colab": {
      "name": "amostragem_e_estimacao",
      "provenance": [],
      "collapsed_sections": [
        "pj-mKo8wOkLR"
      ],
      "authorship_tag": "ABX9TyPprjaxz+FaLh8mnTHVxn1Z",
      "include_colab_link": true
    },
    "kernelspec": {
      "name": "python3",
      "display_name": "Python 3"
    },
    "language_info": {
      "name": "python"
    }
  },
  "cells": [
    {
      "cell_type": "markdown",
      "metadata": {
        "id": "view-in-github",
        "colab_type": "text"
      },
      "source": [
        "<a href=\"https://colab.research.google.com/github/bernardogoltz/datascience_python_probabilidade/blob/main/amostragem_e_estimacao.ipynb\" target=\"_parent\"><img src=\"https://colab.research.google.com/assets/colab-badge.svg\" alt=\"Open In Colab\"/></a>"
      ]
    },
    {
      "cell_type": "markdown",
      "source": [
        "# **AMOSTRAGEM**\n"
      ],
      "metadata": {
        "id": "-PQUiVezOYUu"
      }
    },
    {
      "cell_type": "markdown",
      "source": [
        "### **POPULAÇÃO**\n",
        "\n",
        "\n",
        "Elementos de interesse em um estudo. Pessoas, idades, alturas, carros etc\n",
        "\n",
        "1.   POPULAÇÕES FINITAS\n",
        "2.   POPULAÇÕES INFINITAS\n",
        "\n",
        "\n",
        "###amostra = \n",
        "subconjunto representativo da população que representa as estatisticas da população inteira"
      ],
      "metadata": {
        "id": "pj-mKo8wOkLR"
      }
    },
    {
      "cell_type": "markdown",
      "source": [
        "### **amostragem aleatoria simples**\n"
      ],
      "metadata": {
        "id": "HgXTdyVqUQG9"
      }
    },
    {
      "cell_type": "code",
      "source": [
        "import pandas as pd\n",
        "dados = pd.read_csv('dados.csv')\n",
        "dados.head()"
      ],
      "metadata": {
        "colab": {
          "base_uri": "https://localhost:8080/",
          "height": 206
        },
        "id": "UIDexFfKUdGZ",
        "outputId": "259e6bd4-5cf4-45b4-e3e2-09b36c232845"
      },
      "execution_count": 6,
      "outputs": [
        {
          "output_type": "execute_result",
          "data": {
            "text/html": [
              "\n",
              "  <div id=\"df-6a0029a4-d118-404b-893d-e1241ff8636e\">\n",
              "    <div class=\"colab-df-container\">\n",
              "      <div>\n",
              "<style scoped>\n",
              "    .dataframe tbody tr th:only-of-type {\n",
              "        vertical-align: middle;\n",
              "    }\n",
              "\n",
              "    .dataframe tbody tr th {\n",
              "        vertical-align: top;\n",
              "    }\n",
              "\n",
              "    .dataframe thead th {\n",
              "        text-align: right;\n",
              "    }\n",
              "</style>\n",
              "<table border=\"1\" class=\"dataframe\">\n",
              "  <thead>\n",
              "    <tr style=\"text-align: right;\">\n",
              "      <th></th>\n",
              "      <th>UF</th>\n",
              "      <th>Sexo</th>\n",
              "      <th>Idade</th>\n",
              "      <th>Cor</th>\n",
              "      <th>Anos de Estudo</th>\n",
              "      <th>Renda</th>\n",
              "      <th>Altura</th>\n",
              "    </tr>\n",
              "  </thead>\n",
              "  <tbody>\n",
              "    <tr>\n",
              "      <th>0</th>\n",
              "      <td>11</td>\n",
              "      <td>0</td>\n",
              "      <td>23</td>\n",
              "      <td>8</td>\n",
              "      <td>12</td>\n",
              "      <td>800</td>\n",
              "      <td>1.603808</td>\n",
              "    </tr>\n",
              "    <tr>\n",
              "      <th>1</th>\n",
              "      <td>11</td>\n",
              "      <td>1</td>\n",
              "      <td>23</td>\n",
              "      <td>2</td>\n",
              "      <td>12</td>\n",
              "      <td>1150</td>\n",
              "      <td>1.739790</td>\n",
              "    </tr>\n",
              "    <tr>\n",
              "      <th>2</th>\n",
              "      <td>11</td>\n",
              "      <td>1</td>\n",
              "      <td>35</td>\n",
              "      <td>8</td>\n",
              "      <td>15</td>\n",
              "      <td>880</td>\n",
              "      <td>1.760444</td>\n",
              "    </tr>\n",
              "    <tr>\n",
              "      <th>3</th>\n",
              "      <td>11</td>\n",
              "      <td>0</td>\n",
              "      <td>46</td>\n",
              "      <td>2</td>\n",
              "      <td>6</td>\n",
              "      <td>3500</td>\n",
              "      <td>1.783158</td>\n",
              "    </tr>\n",
              "    <tr>\n",
              "      <th>4</th>\n",
              "      <td>11</td>\n",
              "      <td>1</td>\n",
              "      <td>47</td>\n",
              "      <td>8</td>\n",
              "      <td>9</td>\n",
              "      <td>150</td>\n",
              "      <td>1.690631</td>\n",
              "    </tr>\n",
              "  </tbody>\n",
              "</table>\n",
              "</div>\n",
              "      <button class=\"colab-df-convert\" onclick=\"convertToInteractive('df-6a0029a4-d118-404b-893d-e1241ff8636e')\"\n",
              "              title=\"Convert this dataframe to an interactive table.\"\n",
              "              style=\"display:none;\">\n",
              "        \n",
              "  <svg xmlns=\"http://www.w3.org/2000/svg\" height=\"24px\"viewBox=\"0 0 24 24\"\n",
              "       width=\"24px\">\n",
              "    <path d=\"M0 0h24v24H0V0z\" fill=\"none\"/>\n",
              "    <path d=\"M18.56 5.44l.94 2.06.94-2.06 2.06-.94-2.06-.94-.94-2.06-.94 2.06-2.06.94zm-11 1L8.5 8.5l.94-2.06 2.06-.94-2.06-.94L8.5 2.5l-.94 2.06-2.06.94zm10 10l.94 2.06.94-2.06 2.06-.94-2.06-.94-.94-2.06-.94 2.06-2.06.94z\"/><path d=\"M17.41 7.96l-1.37-1.37c-.4-.4-.92-.59-1.43-.59-.52 0-1.04.2-1.43.59L10.3 9.45l-7.72 7.72c-.78.78-.78 2.05 0 2.83L4 21.41c.39.39.9.59 1.41.59.51 0 1.02-.2 1.41-.59l7.78-7.78 2.81-2.81c.8-.78.8-2.07 0-2.86zM5.41 20L4 18.59l7.72-7.72 1.47 1.35L5.41 20z\"/>\n",
              "  </svg>\n",
              "      </button>\n",
              "      \n",
              "  <style>\n",
              "    .colab-df-container {\n",
              "      display:flex;\n",
              "      flex-wrap:wrap;\n",
              "      gap: 12px;\n",
              "    }\n",
              "\n",
              "    .colab-df-convert {\n",
              "      background-color: #E8F0FE;\n",
              "      border: none;\n",
              "      border-radius: 50%;\n",
              "      cursor: pointer;\n",
              "      display: none;\n",
              "      fill: #1967D2;\n",
              "      height: 32px;\n",
              "      padding: 0 0 0 0;\n",
              "      width: 32px;\n",
              "    }\n",
              "\n",
              "    .colab-df-convert:hover {\n",
              "      background-color: #E2EBFA;\n",
              "      box-shadow: 0px 1px 2px rgba(60, 64, 67, 0.3), 0px 1px 3px 1px rgba(60, 64, 67, 0.15);\n",
              "      fill: #174EA6;\n",
              "    }\n",
              "\n",
              "    [theme=dark] .colab-df-convert {\n",
              "      background-color: #3B4455;\n",
              "      fill: #D2E3FC;\n",
              "    }\n",
              "\n",
              "    [theme=dark] .colab-df-convert:hover {\n",
              "      background-color: #434B5C;\n",
              "      box-shadow: 0px 1px 3px 1px rgba(0, 0, 0, 0.15);\n",
              "      filter: drop-shadow(0px 1px 2px rgba(0, 0, 0, 0.3));\n",
              "      fill: #FFFFFF;\n",
              "    }\n",
              "  </style>\n",
              "\n",
              "      <script>\n",
              "        const buttonEl =\n",
              "          document.querySelector('#df-6a0029a4-d118-404b-893d-e1241ff8636e button.colab-df-convert');\n",
              "        buttonEl.style.display =\n",
              "          google.colab.kernel.accessAllowed ? 'block' : 'none';\n",
              "\n",
              "        async function convertToInteractive(key) {\n",
              "          const element = document.querySelector('#df-6a0029a4-d118-404b-893d-e1241ff8636e');\n",
              "          const dataTable =\n",
              "            await google.colab.kernel.invokeFunction('convertToInteractive',\n",
              "                                                     [key], {});\n",
              "          if (!dataTable) return;\n",
              "\n",
              "          const docLinkHtml = 'Like what you see? Visit the ' +\n",
              "            '<a target=\"_blank\" href=https://colab.research.google.com/notebooks/data_table.ipynb>data table notebook</a>'\n",
              "            + ' to learn more about interactive tables.';\n",
              "          element.innerHTML = '';\n",
              "          dataTable['output_type'] = 'display_data';\n",
              "          await google.colab.output.renderOutput(dataTable, element);\n",
              "          const docLink = document.createElement('div');\n",
              "          docLink.innerHTML = docLinkHtml;\n",
              "          element.appendChild(docLink);\n",
              "        }\n",
              "      </script>\n",
              "    </div>\n",
              "  </div>\n",
              "  "
            ],
            "text/plain": [
              "   UF  Sexo  Idade  Cor  Anos de Estudo  Renda    Altura\n",
              "0  11     0     23    8              12    800  1.603808\n",
              "1  11     1     23    2              12   1150  1.739790\n",
              "2  11     1     35    8              15    880  1.760444\n",
              "3  11     0     46    2               6   3500  1.783158\n",
              "4  11     1     47    8               9    150  1.690631"
            ]
          },
          "metadata": {},
          "execution_count": 6
        }
      ]
    },
    {
      "cell_type": "code",
      "source": [
        "dados.shape[0]"
      ],
      "metadata": {
        "id": "ted2_t10a1iH",
        "colab": {
          "base_uri": "https://localhost:8080/"
        },
        "outputId": "c09fb620-0d75-41cf-95ad-511e60f74393"
      },
      "execution_count": 7,
      "outputs": [
        {
          "output_type": "execute_result",
          "data": {
            "text/plain": [
              "76840"
            ]
          },
          "metadata": {},
          "execution_count": 7
        }
      ]
    },
    {
      "cell_type": "code",
      "source": [
        "dados.Renda.mean()"
      ],
      "metadata": {
        "id": "ywlRr2FQd6Hj",
        "colab": {
          "base_uri": "https://localhost:8080/"
        },
        "outputId": "ae72e213-b728-40d7-9783-cfec16382ad5"
      },
      "execution_count": 8,
      "outputs": [
        {
          "output_type": "execute_result",
          "data": {
            "text/plain": [
              "2000.3831988547631"
            ]
          },
          "metadata": {},
          "execution_count": 8
        }
      ]
    },
    {
      "cell_type": "code",
      "source": [
        "amostra = dados.sample(n = 100)\n",
        "amostra.head()"
      ],
      "metadata": {
        "id": "5q1jk4SbeEoC",
        "colab": {
          "base_uri": "https://localhost:8080/",
          "height": 206
        },
        "outputId": "7d29e73b-ddf7-4788-ebfb-54635dca8446"
      },
      "execution_count": 9,
      "outputs": [
        {
          "output_type": "execute_result",
          "data": {
            "text/html": [
              "\n",
              "  <div id=\"df-30f103f6-2b4d-46ab-9403-bcb0fbb14e25\">\n",
              "    <div class=\"colab-df-container\">\n",
              "      <div>\n",
              "<style scoped>\n",
              "    .dataframe tbody tr th:only-of-type {\n",
              "        vertical-align: middle;\n",
              "    }\n",
              "\n",
              "    .dataframe tbody tr th {\n",
              "        vertical-align: top;\n",
              "    }\n",
              "\n",
              "    .dataframe thead th {\n",
              "        text-align: right;\n",
              "    }\n",
              "</style>\n",
              "<table border=\"1\" class=\"dataframe\">\n",
              "  <thead>\n",
              "    <tr style=\"text-align: right;\">\n",
              "      <th></th>\n",
              "      <th>UF</th>\n",
              "      <th>Sexo</th>\n",
              "      <th>Idade</th>\n",
              "      <th>Cor</th>\n",
              "      <th>Anos de Estudo</th>\n",
              "      <th>Renda</th>\n",
              "      <th>Altura</th>\n",
              "    </tr>\n",
              "  </thead>\n",
              "  <tbody>\n",
              "    <tr>\n",
              "      <th>48629</th>\n",
              "      <td>35</td>\n",
              "      <td>0</td>\n",
              "      <td>38</td>\n",
              "      <td>8</td>\n",
              "      <td>12</td>\n",
              "      <td>3500</td>\n",
              "      <td>1.656517</td>\n",
              "    </tr>\n",
              "    <tr>\n",
              "      <th>22177</th>\n",
              "      <td>26</td>\n",
              "      <td>0</td>\n",
              "      <td>45</td>\n",
              "      <td>2</td>\n",
              "      <td>10</td>\n",
              "      <td>1200</td>\n",
              "      <td>1.612112</td>\n",
              "    </tr>\n",
              "    <tr>\n",
              "      <th>66501</th>\n",
              "      <td>43</td>\n",
              "      <td>0</td>\n",
              "      <td>41</td>\n",
              "      <td>2</td>\n",
              "      <td>8</td>\n",
              "      <td>3000</td>\n",
              "      <td>1.727192</td>\n",
              "    </tr>\n",
              "    <tr>\n",
              "      <th>14889</th>\n",
              "      <td>23</td>\n",
              "      <td>1</td>\n",
              "      <td>46</td>\n",
              "      <td>8</td>\n",
              "      <td>12</td>\n",
              "      <td>800</td>\n",
              "      <td>1.676318</td>\n",
              "    </tr>\n",
              "    <tr>\n",
              "      <th>39249</th>\n",
              "      <td>31</td>\n",
              "      <td>1</td>\n",
              "      <td>36</td>\n",
              "      <td>2</td>\n",
              "      <td>10</td>\n",
              "      <td>1311</td>\n",
              "      <td>1.727289</td>\n",
              "    </tr>\n",
              "  </tbody>\n",
              "</table>\n",
              "</div>\n",
              "      <button class=\"colab-df-convert\" onclick=\"convertToInteractive('df-30f103f6-2b4d-46ab-9403-bcb0fbb14e25')\"\n",
              "              title=\"Convert this dataframe to an interactive table.\"\n",
              "              style=\"display:none;\">\n",
              "        \n",
              "  <svg xmlns=\"http://www.w3.org/2000/svg\" height=\"24px\"viewBox=\"0 0 24 24\"\n",
              "       width=\"24px\">\n",
              "    <path d=\"M0 0h24v24H0V0z\" fill=\"none\"/>\n",
              "    <path d=\"M18.56 5.44l.94 2.06.94-2.06 2.06-.94-2.06-.94-.94-2.06-.94 2.06-2.06.94zm-11 1L8.5 8.5l.94-2.06 2.06-.94-2.06-.94L8.5 2.5l-.94 2.06-2.06.94zm10 10l.94 2.06.94-2.06 2.06-.94-2.06-.94-.94-2.06-.94 2.06-2.06.94z\"/><path d=\"M17.41 7.96l-1.37-1.37c-.4-.4-.92-.59-1.43-.59-.52 0-1.04.2-1.43.59L10.3 9.45l-7.72 7.72c-.78.78-.78 2.05 0 2.83L4 21.41c.39.39.9.59 1.41.59.51 0 1.02-.2 1.41-.59l7.78-7.78 2.81-2.81c.8-.78.8-2.07 0-2.86zM5.41 20L4 18.59l7.72-7.72 1.47 1.35L5.41 20z\"/>\n",
              "  </svg>\n",
              "      </button>\n",
              "      \n",
              "  <style>\n",
              "    .colab-df-container {\n",
              "      display:flex;\n",
              "      flex-wrap:wrap;\n",
              "      gap: 12px;\n",
              "    }\n",
              "\n",
              "    .colab-df-convert {\n",
              "      background-color: #E8F0FE;\n",
              "      border: none;\n",
              "      border-radius: 50%;\n",
              "      cursor: pointer;\n",
              "      display: none;\n",
              "      fill: #1967D2;\n",
              "      height: 32px;\n",
              "      padding: 0 0 0 0;\n",
              "      width: 32px;\n",
              "    }\n",
              "\n",
              "    .colab-df-convert:hover {\n",
              "      background-color: #E2EBFA;\n",
              "      box-shadow: 0px 1px 2px rgba(60, 64, 67, 0.3), 0px 1px 3px 1px rgba(60, 64, 67, 0.15);\n",
              "      fill: #174EA6;\n",
              "    }\n",
              "\n",
              "    [theme=dark] .colab-df-convert {\n",
              "      background-color: #3B4455;\n",
              "      fill: #D2E3FC;\n",
              "    }\n",
              "\n",
              "    [theme=dark] .colab-df-convert:hover {\n",
              "      background-color: #434B5C;\n",
              "      box-shadow: 0px 1px 3px 1px rgba(0, 0, 0, 0.15);\n",
              "      filter: drop-shadow(0px 1px 2px rgba(0, 0, 0, 0.3));\n",
              "      fill: #FFFFFF;\n",
              "    }\n",
              "  </style>\n",
              "\n",
              "      <script>\n",
              "        const buttonEl =\n",
              "          document.querySelector('#df-30f103f6-2b4d-46ab-9403-bcb0fbb14e25 button.colab-df-convert');\n",
              "        buttonEl.style.display =\n",
              "          google.colab.kernel.accessAllowed ? 'block' : 'none';\n",
              "\n",
              "        async function convertToInteractive(key) {\n",
              "          const element = document.querySelector('#df-30f103f6-2b4d-46ab-9403-bcb0fbb14e25');\n",
              "          const dataTable =\n",
              "            await google.colab.kernel.invokeFunction('convertToInteractive',\n",
              "                                                     [key], {});\n",
              "          if (!dataTable) return;\n",
              "\n",
              "          const docLinkHtml = 'Like what you see? Visit the ' +\n",
              "            '<a target=\"_blank\" href=https://colab.research.google.com/notebooks/data_table.ipynb>data table notebook</a>'\n",
              "            + ' to learn more about interactive tables.';\n",
              "          element.innerHTML = '';\n",
              "          dataTable['output_type'] = 'display_data';\n",
              "          await google.colab.output.renderOutput(dataTable, element);\n",
              "          const docLink = document.createElement('div');\n",
              "          docLink.innerHTML = docLinkHtml;\n",
              "          element.appendChild(docLink);\n",
              "        }\n",
              "      </script>\n",
              "    </div>\n",
              "  </div>\n",
              "  "
            ],
            "text/plain": [
              "       UF  Sexo  Idade  Cor  Anos de Estudo  Renda    Altura\n",
              "48629  35     0     38    8              12   3500  1.656517\n",
              "22177  26     0     45    2              10   1200  1.612112\n",
              "66501  43     0     41    2               8   3000  1.727192\n",
              "14889  23     1     46    8              12    800  1.676318\n",
              "39249  31     1     36    2              10   1311  1.727289"
            ]
          },
          "metadata": {},
          "execution_count": 9
        }
      ]
    },
    {
      "cell_type": "code",
      "source": [
        "amostra.shape[0]"
      ],
      "metadata": {
        "id": "mHXESwKJeObP",
        "colab": {
          "base_uri": "https://localhost:8080/"
        },
        "outputId": "e2f34543-7169-4f0b-8512-1e347082292a"
      },
      "execution_count": 10,
      "outputs": [
        {
          "output_type": "execute_result",
          "data": {
            "text/plain": [
              "100"
            ]
          },
          "metadata": {},
          "execution_count": 10
        }
      ]
    },
    {
      "cell_type": "code",
      "source": [
        "amostra.Renda.mean()"
      ],
      "metadata": {
        "id": "QQmpAhXdeV3X",
        "colab": {
          "base_uri": "https://localhost:8080/"
        },
        "outputId": "24a4e3dd-917b-4a84-c22e-48511d8d498f"
      },
      "execution_count": 11,
      "outputs": [
        {
          "output_type": "execute_result",
          "data": {
            "text/plain": [
              "1961.91"
            ]
          },
          "metadata": {},
          "execution_count": 11
        }
      ]
    },
    {
      "cell_type": "code",
      "source": [
        "dados.Sexo.value_counts(normalize = True)"
      ],
      "metadata": {
        "id": "FQ6wtR07fT5I",
        "colab": {
          "base_uri": "https://localhost:8080/"
        },
        "outputId": "1fd80fa0-7604-4a77-e135-a6b8b59ac6a8"
      },
      "execution_count": 12,
      "outputs": [
        {
          "output_type": "execute_result",
          "data": {
            "text/plain": [
              "0    0.692998\n",
              "1    0.307002\n",
              "Name: Sexo, dtype: float64"
            ]
          },
          "metadata": {},
          "execution_count": 12
        }
      ]
    },
    {
      "cell_type": "code",
      "source": [
        "amostra.Sexo.value_counts(normalize=True)"
      ],
      "metadata": {
        "id": "fwuuzqx1fYXO",
        "colab": {
          "base_uri": "https://localhost:8080/"
        },
        "outputId": "7da5604e-b372-498e-d61f-c7bfe4ae5b75"
      },
      "execution_count": 13,
      "outputs": [
        {
          "output_type": "execute_result",
          "data": {
            "text/plain": [
              "0    0.72\n",
              "1    0.28\n",
              "Name: Sexo, dtype: float64"
            ]
          },
          "metadata": {},
          "execution_count": 13
        }
      ]
    },
    {
      "cell_type": "markdown",
      "source": [
        "# ***Estimação***"
      ],
      "metadata": {
        "id": "5ETOwfzMgpOR"
      }
    },
    {
      "cell_type": "markdown",
      "source": [
        "### Teorema do Limite Central"
      ],
      "metadata": {
        "id": "j_rgj7oqgxYr"
      }
    },
    {
      "cell_type": "code",
      "source": [
        "n = 2000\n",
        "total_de_amostras = 150\n",
        "\n",
        "amostras = pd.DataFrame()\n",
        "amostras"
      ],
      "metadata": {
        "id": "nzEpPXYbq94J",
        "colab": {
          "base_uri": "https://localhost:8080/",
          "height": 49
        },
        "outputId": "d2b9b5b3-b29e-43b2-a00f-9abb4414f613"
      },
      "execution_count": 14,
      "outputs": [
        {
          "output_type": "execute_result",
          "data": {
            "text/html": [
              "\n",
              "  <div id=\"df-e4bd6dbf-9b07-444c-bcb1-cb2c342a7f88\">\n",
              "    <div class=\"colab-df-container\">\n",
              "      <div>\n",
              "<style scoped>\n",
              "    .dataframe tbody tr th:only-of-type {\n",
              "        vertical-align: middle;\n",
              "    }\n",
              "\n",
              "    .dataframe tbody tr th {\n",
              "        vertical-align: top;\n",
              "    }\n",
              "\n",
              "    .dataframe thead th {\n",
              "        text-align: right;\n",
              "    }\n",
              "</style>\n",
              "<table border=\"1\" class=\"dataframe\">\n",
              "  <thead>\n",
              "    <tr style=\"text-align: right;\">\n",
              "      <th></th>\n",
              "    </tr>\n",
              "  </thead>\n",
              "  <tbody>\n",
              "  </tbody>\n",
              "</table>\n",
              "</div>\n",
              "      <button class=\"colab-df-convert\" onclick=\"convertToInteractive('df-e4bd6dbf-9b07-444c-bcb1-cb2c342a7f88')\"\n",
              "              title=\"Convert this dataframe to an interactive table.\"\n",
              "              style=\"display:none;\">\n",
              "        \n",
              "  <svg xmlns=\"http://www.w3.org/2000/svg\" height=\"24px\"viewBox=\"0 0 24 24\"\n",
              "       width=\"24px\">\n",
              "    <path d=\"M0 0h24v24H0V0z\" fill=\"none\"/>\n",
              "    <path d=\"M18.56 5.44l.94 2.06.94-2.06 2.06-.94-2.06-.94-.94-2.06-.94 2.06-2.06.94zm-11 1L8.5 8.5l.94-2.06 2.06-.94-2.06-.94L8.5 2.5l-.94 2.06-2.06.94zm10 10l.94 2.06.94-2.06 2.06-.94-2.06-.94-.94-2.06-.94 2.06-2.06.94z\"/><path d=\"M17.41 7.96l-1.37-1.37c-.4-.4-.92-.59-1.43-.59-.52 0-1.04.2-1.43.59L10.3 9.45l-7.72 7.72c-.78.78-.78 2.05 0 2.83L4 21.41c.39.39.9.59 1.41.59.51 0 1.02-.2 1.41-.59l7.78-7.78 2.81-2.81c.8-.78.8-2.07 0-2.86zM5.41 20L4 18.59l7.72-7.72 1.47 1.35L5.41 20z\"/>\n",
              "  </svg>\n",
              "      </button>\n",
              "      \n",
              "  <style>\n",
              "    .colab-df-container {\n",
              "      display:flex;\n",
              "      flex-wrap:wrap;\n",
              "      gap: 12px;\n",
              "    }\n",
              "\n",
              "    .colab-df-convert {\n",
              "      background-color: #E8F0FE;\n",
              "      border: none;\n",
              "      border-radius: 50%;\n",
              "      cursor: pointer;\n",
              "      display: none;\n",
              "      fill: #1967D2;\n",
              "      height: 32px;\n",
              "      padding: 0 0 0 0;\n",
              "      width: 32px;\n",
              "    }\n",
              "\n",
              "    .colab-df-convert:hover {\n",
              "      background-color: #E2EBFA;\n",
              "      box-shadow: 0px 1px 2px rgba(60, 64, 67, 0.3), 0px 1px 3px 1px rgba(60, 64, 67, 0.15);\n",
              "      fill: #174EA6;\n",
              "    }\n",
              "\n",
              "    [theme=dark] .colab-df-convert {\n",
              "      background-color: #3B4455;\n",
              "      fill: #D2E3FC;\n",
              "    }\n",
              "\n",
              "    [theme=dark] .colab-df-convert:hover {\n",
              "      background-color: #434B5C;\n",
              "      box-shadow: 0px 1px 3px 1px rgba(0, 0, 0, 0.15);\n",
              "      filter: drop-shadow(0px 1px 2px rgba(0, 0, 0, 0.3));\n",
              "      fill: #FFFFFF;\n",
              "    }\n",
              "  </style>\n",
              "\n",
              "      <script>\n",
              "        const buttonEl =\n",
              "          document.querySelector('#df-e4bd6dbf-9b07-444c-bcb1-cb2c342a7f88 button.colab-df-convert');\n",
              "        buttonEl.style.display =\n",
              "          google.colab.kernel.accessAllowed ? 'block' : 'none';\n",
              "\n",
              "        async function convertToInteractive(key) {\n",
              "          const element = document.querySelector('#df-e4bd6dbf-9b07-444c-bcb1-cb2c342a7f88');\n",
              "          const dataTable =\n",
              "            await google.colab.kernel.invokeFunction('convertToInteractive',\n",
              "                                                     [key], {});\n",
              "          if (!dataTable) return;\n",
              "\n",
              "          const docLinkHtml = 'Like what you see? Visit the ' +\n",
              "            '<a target=\"_blank\" href=https://colab.research.google.com/notebooks/data_table.ipynb>data table notebook</a>'\n",
              "            + ' to learn more about interactive tables.';\n",
              "          element.innerHTML = '';\n",
              "          dataTable['output_type'] = 'display_data';\n",
              "          await google.colab.output.renderOutput(dataTable, element);\n",
              "          const docLink = document.createElement('div');\n",
              "          docLink.innerHTML = docLinkHtml;\n",
              "          element.appendChild(docLink);\n",
              "        }\n",
              "      </script>\n",
              "    </div>\n",
              "  </div>\n",
              "  "
            ],
            "text/plain": [
              "Empty DataFrame\n",
              "Columns: []\n",
              "Index: []"
            ]
          },
          "metadata": {},
          "execution_count": 14
        }
      ]
    },
    {
      "cell_type": "code",
      "source": [
        "for i in range(total_de_amostras):\n",
        "    _ = dados.Idade.sample(n)\n",
        "    _.index = range(0,len(_))\n",
        "    amostras['Amostra_'+str(i)] = _\n",
        "\n",
        "amostras"
      ],
      "metadata": {
        "id": "jQcf9N9Wrk6v",
        "colab": {
          "base_uri": "https://localhost:8080/",
          "height": 522
        },
        "outputId": "143c7fc2-6c31-4f92-9eeb-502288452b8a"
      },
      "execution_count": 15,
      "outputs": [
        {
          "output_type": "stream",
          "name": "stderr",
          "text": [
            "/usr/local/lib/python3.7/dist-packages/ipykernel_launcher.py:4: PerformanceWarning: DataFrame is highly fragmented.  This is usually the result of calling `frame.insert` many times, which has poor performance.  Consider joining all columns at once using pd.concat(axis=1) instead.  To get a de-fragmented frame, use `newframe = frame.copy()`\n",
            "  after removing the cwd from sys.path.\n"
          ]
        },
        {
          "output_type": "execute_result",
          "data": {
            "text/html": [
              "\n",
              "  <div id=\"df-36b9d456-ed0b-41e0-9520-fbc65700e091\">\n",
              "    <div class=\"colab-df-container\">\n",
              "      <div>\n",
              "<style scoped>\n",
              "    .dataframe tbody tr th:only-of-type {\n",
              "        vertical-align: middle;\n",
              "    }\n",
              "\n",
              "    .dataframe tbody tr th {\n",
              "        vertical-align: top;\n",
              "    }\n",
              "\n",
              "    .dataframe thead th {\n",
              "        text-align: right;\n",
              "    }\n",
              "</style>\n",
              "<table border=\"1\" class=\"dataframe\">\n",
              "  <thead>\n",
              "    <tr style=\"text-align: right;\">\n",
              "      <th></th>\n",
              "      <th>Amostra_0</th>\n",
              "      <th>Amostra_1</th>\n",
              "      <th>Amostra_2</th>\n",
              "      <th>Amostra_3</th>\n",
              "      <th>Amostra_4</th>\n",
              "      <th>Amostra_5</th>\n",
              "      <th>Amostra_6</th>\n",
              "      <th>Amostra_7</th>\n",
              "      <th>Amostra_8</th>\n",
              "      <th>Amostra_9</th>\n",
              "      <th>Amostra_10</th>\n",
              "      <th>Amostra_11</th>\n",
              "      <th>Amostra_12</th>\n",
              "      <th>Amostra_13</th>\n",
              "      <th>Amostra_14</th>\n",
              "      <th>Amostra_15</th>\n",
              "      <th>Amostra_16</th>\n",
              "      <th>Amostra_17</th>\n",
              "      <th>Amostra_18</th>\n",
              "      <th>Amostra_19</th>\n",
              "      <th>Amostra_20</th>\n",
              "      <th>Amostra_21</th>\n",
              "      <th>Amostra_22</th>\n",
              "      <th>Amostra_23</th>\n",
              "      <th>Amostra_24</th>\n",
              "      <th>Amostra_25</th>\n",
              "      <th>Amostra_26</th>\n",
              "      <th>Amostra_27</th>\n",
              "      <th>Amostra_28</th>\n",
              "      <th>Amostra_29</th>\n",
              "      <th>Amostra_30</th>\n",
              "      <th>Amostra_31</th>\n",
              "      <th>Amostra_32</th>\n",
              "      <th>Amostra_33</th>\n",
              "      <th>Amostra_34</th>\n",
              "      <th>Amostra_35</th>\n",
              "      <th>Amostra_36</th>\n",
              "      <th>Amostra_37</th>\n",
              "      <th>Amostra_38</th>\n",
              "      <th>Amostra_39</th>\n",
              "      <th>...</th>\n",
              "      <th>Amostra_110</th>\n",
              "      <th>Amostra_111</th>\n",
              "      <th>Amostra_112</th>\n",
              "      <th>Amostra_113</th>\n",
              "      <th>Amostra_114</th>\n",
              "      <th>Amostra_115</th>\n",
              "      <th>Amostra_116</th>\n",
              "      <th>Amostra_117</th>\n",
              "      <th>Amostra_118</th>\n",
              "      <th>Amostra_119</th>\n",
              "      <th>Amostra_120</th>\n",
              "      <th>Amostra_121</th>\n",
              "      <th>Amostra_122</th>\n",
              "      <th>Amostra_123</th>\n",
              "      <th>Amostra_124</th>\n",
              "      <th>Amostra_125</th>\n",
              "      <th>Amostra_126</th>\n",
              "      <th>Amostra_127</th>\n",
              "      <th>Amostra_128</th>\n",
              "      <th>Amostra_129</th>\n",
              "      <th>Amostra_130</th>\n",
              "      <th>Amostra_131</th>\n",
              "      <th>Amostra_132</th>\n",
              "      <th>Amostra_133</th>\n",
              "      <th>Amostra_134</th>\n",
              "      <th>Amostra_135</th>\n",
              "      <th>Amostra_136</th>\n",
              "      <th>Amostra_137</th>\n",
              "      <th>Amostra_138</th>\n",
              "      <th>Amostra_139</th>\n",
              "      <th>Amostra_140</th>\n",
              "      <th>Amostra_141</th>\n",
              "      <th>Amostra_142</th>\n",
              "      <th>Amostra_143</th>\n",
              "      <th>Amostra_144</th>\n",
              "      <th>Amostra_145</th>\n",
              "      <th>Amostra_146</th>\n",
              "      <th>Amostra_147</th>\n",
              "      <th>Amostra_148</th>\n",
              "      <th>Amostra_149</th>\n",
              "    </tr>\n",
              "  </thead>\n",
              "  <tbody>\n",
              "    <tr>\n",
              "      <th>0</th>\n",
              "      <td>52</td>\n",
              "      <td>57</td>\n",
              "      <td>50</td>\n",
              "      <td>69</td>\n",
              "      <td>38</td>\n",
              "      <td>23</td>\n",
              "      <td>62</td>\n",
              "      <td>28</td>\n",
              "      <td>27</td>\n",
              "      <td>37</td>\n",
              "      <td>41</td>\n",
              "      <td>53</td>\n",
              "      <td>75</td>\n",
              "      <td>55</td>\n",
              "      <td>43</td>\n",
              "      <td>44</td>\n",
              "      <td>44</td>\n",
              "      <td>58</td>\n",
              "      <td>62</td>\n",
              "      <td>41</td>\n",
              "      <td>37</td>\n",
              "      <td>41</td>\n",
              "      <td>61</td>\n",
              "      <td>33</td>\n",
              "      <td>35</td>\n",
              "      <td>37</td>\n",
              "      <td>53</td>\n",
              "      <td>59</td>\n",
              "      <td>22</td>\n",
              "      <td>30</td>\n",
              "      <td>31</td>\n",
              "      <td>53</td>\n",
              "      <td>55</td>\n",
              "      <td>56</td>\n",
              "      <td>30</td>\n",
              "      <td>37</td>\n",
              "      <td>35</td>\n",
              "      <td>34</td>\n",
              "      <td>26</td>\n",
              "      <td>34</td>\n",
              "      <td>...</td>\n",
              "      <td>21</td>\n",
              "      <td>35</td>\n",
              "      <td>31</td>\n",
              "      <td>46</td>\n",
              "      <td>27</td>\n",
              "      <td>39</td>\n",
              "      <td>44</td>\n",
              "      <td>33</td>\n",
              "      <td>52</td>\n",
              "      <td>45</td>\n",
              "      <td>28</td>\n",
              "      <td>48</td>\n",
              "      <td>52</td>\n",
              "      <td>38</td>\n",
              "      <td>29</td>\n",
              "      <td>29</td>\n",
              "      <td>30</td>\n",
              "      <td>51</td>\n",
              "      <td>38</td>\n",
              "      <td>37</td>\n",
              "      <td>35</td>\n",
              "      <td>29</td>\n",
              "      <td>31</td>\n",
              "      <td>45</td>\n",
              "      <td>23</td>\n",
              "      <td>73</td>\n",
              "      <td>46</td>\n",
              "      <td>32</td>\n",
              "      <td>59</td>\n",
              "      <td>52</td>\n",
              "      <td>49</td>\n",
              "      <td>37</td>\n",
              "      <td>58</td>\n",
              "      <td>29</td>\n",
              "      <td>43</td>\n",
              "      <td>56</td>\n",
              "      <td>28</td>\n",
              "      <td>40</td>\n",
              "      <td>19</td>\n",
              "      <td>30</td>\n",
              "    </tr>\n",
              "    <tr>\n",
              "      <th>1</th>\n",
              "      <td>38</td>\n",
              "      <td>64</td>\n",
              "      <td>53</td>\n",
              "      <td>47</td>\n",
              "      <td>73</td>\n",
              "      <td>47</td>\n",
              "      <td>36</td>\n",
              "      <td>40</td>\n",
              "      <td>27</td>\n",
              "      <td>68</td>\n",
              "      <td>46</td>\n",
              "      <td>62</td>\n",
              "      <td>56</td>\n",
              "      <td>33</td>\n",
              "      <td>32</td>\n",
              "      <td>71</td>\n",
              "      <td>58</td>\n",
              "      <td>50</td>\n",
              "      <td>58</td>\n",
              "      <td>59</td>\n",
              "      <td>32</td>\n",
              "      <td>44</td>\n",
              "      <td>30</td>\n",
              "      <td>36</td>\n",
              "      <td>59</td>\n",
              "      <td>46</td>\n",
              "      <td>63</td>\n",
              "      <td>41</td>\n",
              "      <td>35</td>\n",
              "      <td>53</td>\n",
              "      <td>54</td>\n",
              "      <td>30</td>\n",
              "      <td>51</td>\n",
              "      <td>46</td>\n",
              "      <td>37</td>\n",
              "      <td>57</td>\n",
              "      <td>56</td>\n",
              "      <td>61</td>\n",
              "      <td>48</td>\n",
              "      <td>37</td>\n",
              "      <td>...</td>\n",
              "      <td>30</td>\n",
              "      <td>64</td>\n",
              "      <td>38</td>\n",
              "      <td>51</td>\n",
              "      <td>67</td>\n",
              "      <td>62</td>\n",
              "      <td>27</td>\n",
              "      <td>40</td>\n",
              "      <td>49</td>\n",
              "      <td>39</td>\n",
              "      <td>52</td>\n",
              "      <td>31</td>\n",
              "      <td>59</td>\n",
              "      <td>51</td>\n",
              "      <td>56</td>\n",
              "      <td>31</td>\n",
              "      <td>65</td>\n",
              "      <td>51</td>\n",
              "      <td>45</td>\n",
              "      <td>44</td>\n",
              "      <td>28</td>\n",
              "      <td>49</td>\n",
              "      <td>53</td>\n",
              "      <td>26</td>\n",
              "      <td>61</td>\n",
              "      <td>52</td>\n",
              "      <td>21</td>\n",
              "      <td>30</td>\n",
              "      <td>28</td>\n",
              "      <td>70</td>\n",
              "      <td>36</td>\n",
              "      <td>29</td>\n",
              "      <td>58</td>\n",
              "      <td>57</td>\n",
              "      <td>50</td>\n",
              "      <td>38</td>\n",
              "      <td>33</td>\n",
              "      <td>45</td>\n",
              "      <td>37</td>\n",
              "      <td>50</td>\n",
              "    </tr>\n",
              "    <tr>\n",
              "      <th>2</th>\n",
              "      <td>47</td>\n",
              "      <td>31</td>\n",
              "      <td>62</td>\n",
              "      <td>47</td>\n",
              "      <td>69</td>\n",
              "      <td>70</td>\n",
              "      <td>58</td>\n",
              "      <td>71</td>\n",
              "      <td>55</td>\n",
              "      <td>77</td>\n",
              "      <td>35</td>\n",
              "      <td>28</td>\n",
              "      <td>40</td>\n",
              "      <td>40</td>\n",
              "      <td>38</td>\n",
              "      <td>55</td>\n",
              "      <td>58</td>\n",
              "      <td>21</td>\n",
              "      <td>25</td>\n",
              "      <td>46</td>\n",
              "      <td>59</td>\n",
              "      <td>41</td>\n",
              "      <td>53</td>\n",
              "      <td>29</td>\n",
              "      <td>54</td>\n",
              "      <td>43</td>\n",
              "      <td>27</td>\n",
              "      <td>30</td>\n",
              "      <td>68</td>\n",
              "      <td>54</td>\n",
              "      <td>54</td>\n",
              "      <td>69</td>\n",
              "      <td>50</td>\n",
              "      <td>47</td>\n",
              "      <td>50</td>\n",
              "      <td>37</td>\n",
              "      <td>42</td>\n",
              "      <td>40</td>\n",
              "      <td>48</td>\n",
              "      <td>31</td>\n",
              "      <td>...</td>\n",
              "      <td>49</td>\n",
              "      <td>36</td>\n",
              "      <td>32</td>\n",
              "      <td>54</td>\n",
              "      <td>28</td>\n",
              "      <td>65</td>\n",
              "      <td>29</td>\n",
              "      <td>42</td>\n",
              "      <td>54</td>\n",
              "      <td>55</td>\n",
              "      <td>46</td>\n",
              "      <td>33</td>\n",
              "      <td>78</td>\n",
              "      <td>48</td>\n",
              "      <td>44</td>\n",
              "      <td>32</td>\n",
              "      <td>35</td>\n",
              "      <td>32</td>\n",
              "      <td>34</td>\n",
              "      <td>29</td>\n",
              "      <td>39</td>\n",
              "      <td>57</td>\n",
              "      <td>57</td>\n",
              "      <td>51</td>\n",
              "      <td>29</td>\n",
              "      <td>60</td>\n",
              "      <td>36</td>\n",
              "      <td>25</td>\n",
              "      <td>38</td>\n",
              "      <td>28</td>\n",
              "      <td>53</td>\n",
              "      <td>66</td>\n",
              "      <td>54</td>\n",
              "      <td>26</td>\n",
              "      <td>25</td>\n",
              "      <td>53</td>\n",
              "      <td>34</td>\n",
              "      <td>35</td>\n",
              "      <td>60</td>\n",
              "      <td>37</td>\n",
              "    </tr>\n",
              "    <tr>\n",
              "      <th>3</th>\n",
              "      <td>28</td>\n",
              "      <td>46</td>\n",
              "      <td>29</td>\n",
              "      <td>58</td>\n",
              "      <td>60</td>\n",
              "      <td>57</td>\n",
              "      <td>29</td>\n",
              "      <td>50</td>\n",
              "      <td>35</td>\n",
              "      <td>50</td>\n",
              "      <td>28</td>\n",
              "      <td>32</td>\n",
              "      <td>50</td>\n",
              "      <td>31</td>\n",
              "      <td>62</td>\n",
              "      <td>23</td>\n",
              "      <td>34</td>\n",
              "      <td>39</td>\n",
              "      <td>55</td>\n",
              "      <td>44</td>\n",
              "      <td>56</td>\n",
              "      <td>41</td>\n",
              "      <td>30</td>\n",
              "      <td>33</td>\n",
              "      <td>50</td>\n",
              "      <td>38</td>\n",
              "      <td>46</td>\n",
              "      <td>35</td>\n",
              "      <td>34</td>\n",
              "      <td>63</td>\n",
              "      <td>38</td>\n",
              "      <td>40</td>\n",
              "      <td>24</td>\n",
              "      <td>40</td>\n",
              "      <td>35</td>\n",
              "      <td>52</td>\n",
              "      <td>66</td>\n",
              "      <td>34</td>\n",
              "      <td>31</td>\n",
              "      <td>53</td>\n",
              "      <td>...</td>\n",
              "      <td>21</td>\n",
              "      <td>37</td>\n",
              "      <td>46</td>\n",
              "      <td>31</td>\n",
              "      <td>22</td>\n",
              "      <td>36</td>\n",
              "      <td>30</td>\n",
              "      <td>28</td>\n",
              "      <td>39</td>\n",
              "      <td>57</td>\n",
              "      <td>55</td>\n",
              "      <td>56</td>\n",
              "      <td>58</td>\n",
              "      <td>31</td>\n",
              "      <td>39</td>\n",
              "      <td>47</td>\n",
              "      <td>30</td>\n",
              "      <td>28</td>\n",
              "      <td>54</td>\n",
              "      <td>61</td>\n",
              "      <td>33</td>\n",
              "      <td>27</td>\n",
              "      <td>47</td>\n",
              "      <td>28</td>\n",
              "      <td>52</td>\n",
              "      <td>47</td>\n",
              "      <td>48</td>\n",
              "      <td>45</td>\n",
              "      <td>45</td>\n",
              "      <td>32</td>\n",
              "      <td>49</td>\n",
              "      <td>50</td>\n",
              "      <td>42</td>\n",
              "      <td>43</td>\n",
              "      <td>43</td>\n",
              "      <td>44</td>\n",
              "      <td>45</td>\n",
              "      <td>40</td>\n",
              "      <td>46</td>\n",
              "      <td>36</td>\n",
              "    </tr>\n",
              "    <tr>\n",
              "      <th>4</th>\n",
              "      <td>32</td>\n",
              "      <td>38</td>\n",
              "      <td>42</td>\n",
              "      <td>38</td>\n",
              "      <td>38</td>\n",
              "      <td>45</td>\n",
              "      <td>32</td>\n",
              "      <td>51</td>\n",
              "      <td>49</td>\n",
              "      <td>46</td>\n",
              "      <td>39</td>\n",
              "      <td>30</td>\n",
              "      <td>39</td>\n",
              "      <td>65</td>\n",
              "      <td>39</td>\n",
              "      <td>52</td>\n",
              "      <td>40</td>\n",
              "      <td>47</td>\n",
              "      <td>51</td>\n",
              "      <td>37</td>\n",
              "      <td>28</td>\n",
              "      <td>66</td>\n",
              "      <td>33</td>\n",
              "      <td>51</td>\n",
              "      <td>48</td>\n",
              "      <td>24</td>\n",
              "      <td>37</td>\n",
              "      <td>26</td>\n",
              "      <td>42</td>\n",
              "      <td>50</td>\n",
              "      <td>49</td>\n",
              "      <td>37</td>\n",
              "      <td>32</td>\n",
              "      <td>35</td>\n",
              "      <td>33</td>\n",
              "      <td>78</td>\n",
              "      <td>45</td>\n",
              "      <td>36</td>\n",
              "      <td>39</td>\n",
              "      <td>50</td>\n",
              "      <td>...</td>\n",
              "      <td>42</td>\n",
              "      <td>30</td>\n",
              "      <td>30</td>\n",
              "      <td>30</td>\n",
              "      <td>30</td>\n",
              "      <td>33</td>\n",
              "      <td>44</td>\n",
              "      <td>38</td>\n",
              "      <td>23</td>\n",
              "      <td>30</td>\n",
              "      <td>65</td>\n",
              "      <td>48</td>\n",
              "      <td>38</td>\n",
              "      <td>45</td>\n",
              "      <td>54</td>\n",
              "      <td>65</td>\n",
              "      <td>45</td>\n",
              "      <td>52</td>\n",
              "      <td>33</td>\n",
              "      <td>40</td>\n",
              "      <td>37</td>\n",
              "      <td>60</td>\n",
              "      <td>50</td>\n",
              "      <td>35</td>\n",
              "      <td>35</td>\n",
              "      <td>57</td>\n",
              "      <td>25</td>\n",
              "      <td>60</td>\n",
              "      <td>35</td>\n",
              "      <td>64</td>\n",
              "      <td>53</td>\n",
              "      <td>25</td>\n",
              "      <td>34</td>\n",
              "      <td>59</td>\n",
              "      <td>30</td>\n",
              "      <td>28</td>\n",
              "      <td>47</td>\n",
              "      <td>46</td>\n",
              "      <td>39</td>\n",
              "      <td>23</td>\n",
              "    </tr>\n",
              "    <tr>\n",
              "      <th>...</th>\n",
              "      <td>...</td>\n",
              "      <td>...</td>\n",
              "      <td>...</td>\n",
              "      <td>...</td>\n",
              "      <td>...</td>\n",
              "      <td>...</td>\n",
              "      <td>...</td>\n",
              "      <td>...</td>\n",
              "      <td>...</td>\n",
              "      <td>...</td>\n",
              "      <td>...</td>\n",
              "      <td>...</td>\n",
              "      <td>...</td>\n",
              "      <td>...</td>\n",
              "      <td>...</td>\n",
              "      <td>...</td>\n",
              "      <td>...</td>\n",
              "      <td>...</td>\n",
              "      <td>...</td>\n",
              "      <td>...</td>\n",
              "      <td>...</td>\n",
              "      <td>...</td>\n",
              "      <td>...</td>\n",
              "      <td>...</td>\n",
              "      <td>...</td>\n",
              "      <td>...</td>\n",
              "      <td>...</td>\n",
              "      <td>...</td>\n",
              "      <td>...</td>\n",
              "      <td>...</td>\n",
              "      <td>...</td>\n",
              "      <td>...</td>\n",
              "      <td>...</td>\n",
              "      <td>...</td>\n",
              "      <td>...</td>\n",
              "      <td>...</td>\n",
              "      <td>...</td>\n",
              "      <td>...</td>\n",
              "      <td>...</td>\n",
              "      <td>...</td>\n",
              "      <td>...</td>\n",
              "      <td>...</td>\n",
              "      <td>...</td>\n",
              "      <td>...</td>\n",
              "      <td>...</td>\n",
              "      <td>...</td>\n",
              "      <td>...</td>\n",
              "      <td>...</td>\n",
              "      <td>...</td>\n",
              "      <td>...</td>\n",
              "      <td>...</td>\n",
              "      <td>...</td>\n",
              "      <td>...</td>\n",
              "      <td>...</td>\n",
              "      <td>...</td>\n",
              "      <td>...</td>\n",
              "      <td>...</td>\n",
              "      <td>...</td>\n",
              "      <td>...</td>\n",
              "      <td>...</td>\n",
              "      <td>...</td>\n",
              "      <td>...</td>\n",
              "      <td>...</td>\n",
              "      <td>...</td>\n",
              "      <td>...</td>\n",
              "      <td>...</td>\n",
              "      <td>...</td>\n",
              "      <td>...</td>\n",
              "      <td>...</td>\n",
              "      <td>...</td>\n",
              "      <td>...</td>\n",
              "      <td>...</td>\n",
              "      <td>...</td>\n",
              "      <td>...</td>\n",
              "      <td>...</td>\n",
              "      <td>...</td>\n",
              "      <td>...</td>\n",
              "      <td>...</td>\n",
              "      <td>...</td>\n",
              "      <td>...</td>\n",
              "      <td>...</td>\n",
              "    </tr>\n",
              "    <tr>\n",
              "      <th>1995</th>\n",
              "      <td>63</td>\n",
              "      <td>46</td>\n",
              "      <td>31</td>\n",
              "      <td>57</td>\n",
              "      <td>60</td>\n",
              "      <td>49</td>\n",
              "      <td>37</td>\n",
              "      <td>39</td>\n",
              "      <td>33</td>\n",
              "      <td>45</td>\n",
              "      <td>60</td>\n",
              "      <td>34</td>\n",
              "      <td>31</td>\n",
              "      <td>40</td>\n",
              "      <td>21</td>\n",
              "      <td>25</td>\n",
              "      <td>34</td>\n",
              "      <td>21</td>\n",
              "      <td>30</td>\n",
              "      <td>27</td>\n",
              "      <td>24</td>\n",
              "      <td>35</td>\n",
              "      <td>55</td>\n",
              "      <td>29</td>\n",
              "      <td>53</td>\n",
              "      <td>64</td>\n",
              "      <td>58</td>\n",
              "      <td>55</td>\n",
              "      <td>43</td>\n",
              "      <td>44</td>\n",
              "      <td>29</td>\n",
              "      <td>32</td>\n",
              "      <td>44</td>\n",
              "      <td>23</td>\n",
              "      <td>24</td>\n",
              "      <td>31</td>\n",
              "      <td>42</td>\n",
              "      <td>52</td>\n",
              "      <td>44</td>\n",
              "      <td>35</td>\n",
              "      <td>...</td>\n",
              "      <td>49</td>\n",
              "      <td>46</td>\n",
              "      <td>56</td>\n",
              "      <td>37</td>\n",
              "      <td>19</td>\n",
              "      <td>48</td>\n",
              "      <td>38</td>\n",
              "      <td>67</td>\n",
              "      <td>47</td>\n",
              "      <td>53</td>\n",
              "      <td>42</td>\n",
              "      <td>43</td>\n",
              "      <td>40</td>\n",
              "      <td>26</td>\n",
              "      <td>44</td>\n",
              "      <td>38</td>\n",
              "      <td>37</td>\n",
              "      <td>63</td>\n",
              "      <td>33</td>\n",
              "      <td>56</td>\n",
              "      <td>47</td>\n",
              "      <td>40</td>\n",
              "      <td>39</td>\n",
              "      <td>50</td>\n",
              "      <td>45</td>\n",
              "      <td>24</td>\n",
              "      <td>35</td>\n",
              "      <td>30</td>\n",
              "      <td>47</td>\n",
              "      <td>35</td>\n",
              "      <td>68</td>\n",
              "      <td>49</td>\n",
              "      <td>44</td>\n",
              "      <td>29</td>\n",
              "      <td>53</td>\n",
              "      <td>34</td>\n",
              "      <td>52</td>\n",
              "      <td>49</td>\n",
              "      <td>25</td>\n",
              "      <td>34</td>\n",
              "    </tr>\n",
              "    <tr>\n",
              "      <th>1996</th>\n",
              "      <td>25</td>\n",
              "      <td>35</td>\n",
              "      <td>33</td>\n",
              "      <td>44</td>\n",
              "      <td>49</td>\n",
              "      <td>23</td>\n",
              "      <td>41</td>\n",
              "      <td>27</td>\n",
              "      <td>62</td>\n",
              "      <td>36</td>\n",
              "      <td>36</td>\n",
              "      <td>27</td>\n",
              "      <td>40</td>\n",
              "      <td>37</td>\n",
              "      <td>31</td>\n",
              "      <td>58</td>\n",
              "      <td>34</td>\n",
              "      <td>61</td>\n",
              "      <td>43</td>\n",
              "      <td>47</td>\n",
              "      <td>31</td>\n",
              "      <td>28</td>\n",
              "      <td>49</td>\n",
              "      <td>30</td>\n",
              "      <td>23</td>\n",
              "      <td>51</td>\n",
              "      <td>57</td>\n",
              "      <td>33</td>\n",
              "      <td>37</td>\n",
              "      <td>25</td>\n",
              "      <td>46</td>\n",
              "      <td>24</td>\n",
              "      <td>41</td>\n",
              "      <td>44</td>\n",
              "      <td>42</td>\n",
              "      <td>68</td>\n",
              "      <td>30</td>\n",
              "      <td>42</td>\n",
              "      <td>21</td>\n",
              "      <td>38</td>\n",
              "      <td>...</td>\n",
              "      <td>44</td>\n",
              "      <td>32</td>\n",
              "      <td>50</td>\n",
              "      <td>44</td>\n",
              "      <td>35</td>\n",
              "      <td>32</td>\n",
              "      <td>50</td>\n",
              "      <td>30</td>\n",
              "      <td>37</td>\n",
              "      <td>39</td>\n",
              "      <td>39</td>\n",
              "      <td>64</td>\n",
              "      <td>34</td>\n",
              "      <td>24</td>\n",
              "      <td>37</td>\n",
              "      <td>25</td>\n",
              "      <td>28</td>\n",
              "      <td>37</td>\n",
              "      <td>62</td>\n",
              "      <td>42</td>\n",
              "      <td>39</td>\n",
              "      <td>54</td>\n",
              "      <td>54</td>\n",
              "      <td>33</td>\n",
              "      <td>56</td>\n",
              "      <td>28</td>\n",
              "      <td>25</td>\n",
              "      <td>66</td>\n",
              "      <td>69</td>\n",
              "      <td>29</td>\n",
              "      <td>48</td>\n",
              "      <td>70</td>\n",
              "      <td>35</td>\n",
              "      <td>50</td>\n",
              "      <td>38</td>\n",
              "      <td>38</td>\n",
              "      <td>61</td>\n",
              "      <td>65</td>\n",
              "      <td>53</td>\n",
              "      <td>28</td>\n",
              "    </tr>\n",
              "    <tr>\n",
              "      <th>1997</th>\n",
              "      <td>40</td>\n",
              "      <td>56</td>\n",
              "      <td>63</td>\n",
              "      <td>51</td>\n",
              "      <td>34</td>\n",
              "      <td>25</td>\n",
              "      <td>55</td>\n",
              "      <td>32</td>\n",
              "      <td>70</td>\n",
              "      <td>41</td>\n",
              "      <td>48</td>\n",
              "      <td>58</td>\n",
              "      <td>62</td>\n",
              "      <td>58</td>\n",
              "      <td>27</td>\n",
              "      <td>37</td>\n",
              "      <td>28</td>\n",
              "      <td>51</td>\n",
              "      <td>39</td>\n",
              "      <td>61</td>\n",
              "      <td>70</td>\n",
              "      <td>29</td>\n",
              "      <td>44</td>\n",
              "      <td>37</td>\n",
              "      <td>27</td>\n",
              "      <td>39</td>\n",
              "      <td>56</td>\n",
              "      <td>20</td>\n",
              "      <td>48</td>\n",
              "      <td>53</td>\n",
              "      <td>38</td>\n",
              "      <td>51</td>\n",
              "      <td>57</td>\n",
              "      <td>34</td>\n",
              "      <td>43</td>\n",
              "      <td>39</td>\n",
              "      <td>33</td>\n",
              "      <td>46</td>\n",
              "      <td>51</td>\n",
              "      <td>45</td>\n",
              "      <td>...</td>\n",
              "      <td>35</td>\n",
              "      <td>53</td>\n",
              "      <td>56</td>\n",
              "      <td>35</td>\n",
              "      <td>68</td>\n",
              "      <td>50</td>\n",
              "      <td>29</td>\n",
              "      <td>40</td>\n",
              "      <td>33</td>\n",
              "      <td>28</td>\n",
              "      <td>38</td>\n",
              "      <td>35</td>\n",
              "      <td>62</td>\n",
              "      <td>41</td>\n",
              "      <td>40</td>\n",
              "      <td>59</td>\n",
              "      <td>65</td>\n",
              "      <td>33</td>\n",
              "      <td>66</td>\n",
              "      <td>67</td>\n",
              "      <td>51</td>\n",
              "      <td>31</td>\n",
              "      <td>48</td>\n",
              "      <td>50</td>\n",
              "      <td>60</td>\n",
              "      <td>46</td>\n",
              "      <td>65</td>\n",
              "      <td>35</td>\n",
              "      <td>63</td>\n",
              "      <td>32</td>\n",
              "      <td>35</td>\n",
              "      <td>41</td>\n",
              "      <td>56</td>\n",
              "      <td>50</td>\n",
              "      <td>40</td>\n",
              "      <td>33</td>\n",
              "      <td>25</td>\n",
              "      <td>37</td>\n",
              "      <td>37</td>\n",
              "      <td>60</td>\n",
              "    </tr>\n",
              "    <tr>\n",
              "      <th>1998</th>\n",
              "      <td>46</td>\n",
              "      <td>19</td>\n",
              "      <td>30</td>\n",
              "      <td>61</td>\n",
              "      <td>55</td>\n",
              "      <td>64</td>\n",
              "      <td>37</td>\n",
              "      <td>28</td>\n",
              "      <td>67</td>\n",
              "      <td>33</td>\n",
              "      <td>48</td>\n",
              "      <td>73</td>\n",
              "      <td>35</td>\n",
              "      <td>59</td>\n",
              "      <td>70</td>\n",
              "      <td>40</td>\n",
              "      <td>48</td>\n",
              "      <td>44</td>\n",
              "      <td>36</td>\n",
              "      <td>36</td>\n",
              "      <td>27</td>\n",
              "      <td>44</td>\n",
              "      <td>69</td>\n",
              "      <td>37</td>\n",
              "      <td>28</td>\n",
              "      <td>23</td>\n",
              "      <td>32</td>\n",
              "      <td>35</td>\n",
              "      <td>23</td>\n",
              "      <td>34</td>\n",
              "      <td>43</td>\n",
              "      <td>50</td>\n",
              "      <td>79</td>\n",
              "      <td>18</td>\n",
              "      <td>41</td>\n",
              "      <td>36</td>\n",
              "      <td>53</td>\n",
              "      <td>35</td>\n",
              "      <td>57</td>\n",
              "      <td>63</td>\n",
              "      <td>...</td>\n",
              "      <td>48</td>\n",
              "      <td>38</td>\n",
              "      <td>48</td>\n",
              "      <td>32</td>\n",
              "      <td>51</td>\n",
              "      <td>25</td>\n",
              "      <td>55</td>\n",
              "      <td>54</td>\n",
              "      <td>36</td>\n",
              "      <td>34</td>\n",
              "      <td>31</td>\n",
              "      <td>30</td>\n",
              "      <td>74</td>\n",
              "      <td>45</td>\n",
              "      <td>52</td>\n",
              "      <td>55</td>\n",
              "      <td>38</td>\n",
              "      <td>36</td>\n",
              "      <td>52</td>\n",
              "      <td>53</td>\n",
              "      <td>57</td>\n",
              "      <td>65</td>\n",
              "      <td>54</td>\n",
              "      <td>48</td>\n",
              "      <td>35</td>\n",
              "      <td>62</td>\n",
              "      <td>35</td>\n",
              "      <td>49</td>\n",
              "      <td>38</td>\n",
              "      <td>24</td>\n",
              "      <td>31</td>\n",
              "      <td>22</td>\n",
              "      <td>33</td>\n",
              "      <td>56</td>\n",
              "      <td>32</td>\n",
              "      <td>44</td>\n",
              "      <td>31</td>\n",
              "      <td>45</td>\n",
              "      <td>54</td>\n",
              "      <td>53</td>\n",
              "    </tr>\n",
              "    <tr>\n",
              "      <th>1999</th>\n",
              "      <td>55</td>\n",
              "      <td>42</td>\n",
              "      <td>45</td>\n",
              "      <td>56</td>\n",
              "      <td>59</td>\n",
              "      <td>50</td>\n",
              "      <td>34</td>\n",
              "      <td>47</td>\n",
              "      <td>42</td>\n",
              "      <td>54</td>\n",
              "      <td>46</td>\n",
              "      <td>61</td>\n",
              "      <td>51</td>\n",
              "      <td>32</td>\n",
              "      <td>56</td>\n",
              "      <td>62</td>\n",
              "      <td>51</td>\n",
              "      <td>52</td>\n",
              "      <td>50</td>\n",
              "      <td>58</td>\n",
              "      <td>29</td>\n",
              "      <td>47</td>\n",
              "      <td>30</td>\n",
              "      <td>37</td>\n",
              "      <td>39</td>\n",
              "      <td>23</td>\n",
              "      <td>33</td>\n",
              "      <td>67</td>\n",
              "      <td>31</td>\n",
              "      <td>46</td>\n",
              "      <td>36</td>\n",
              "      <td>29</td>\n",
              "      <td>34</td>\n",
              "      <td>32</td>\n",
              "      <td>46</td>\n",
              "      <td>26</td>\n",
              "      <td>53</td>\n",
              "      <td>71</td>\n",
              "      <td>25</td>\n",
              "      <td>47</td>\n",
              "      <td>...</td>\n",
              "      <td>28</td>\n",
              "      <td>42</td>\n",
              "      <td>39</td>\n",
              "      <td>48</td>\n",
              "      <td>22</td>\n",
              "      <td>40</td>\n",
              "      <td>31</td>\n",
              "      <td>50</td>\n",
              "      <td>57</td>\n",
              "      <td>30</td>\n",
              "      <td>32</td>\n",
              "      <td>43</td>\n",
              "      <td>60</td>\n",
              "      <td>51</td>\n",
              "      <td>20</td>\n",
              "      <td>46</td>\n",
              "      <td>24</td>\n",
              "      <td>40</td>\n",
              "      <td>32</td>\n",
              "      <td>44</td>\n",
              "      <td>33</td>\n",
              "      <td>48</td>\n",
              "      <td>56</td>\n",
              "      <td>34</td>\n",
              "      <td>57</td>\n",
              "      <td>39</td>\n",
              "      <td>27</td>\n",
              "      <td>40</td>\n",
              "      <td>36</td>\n",
              "      <td>46</td>\n",
              "      <td>32</td>\n",
              "      <td>37</td>\n",
              "      <td>28</td>\n",
              "      <td>38</td>\n",
              "      <td>32</td>\n",
              "      <td>46</td>\n",
              "      <td>28</td>\n",
              "      <td>51</td>\n",
              "      <td>41</td>\n",
              "      <td>50</td>\n",
              "    </tr>\n",
              "  </tbody>\n",
              "</table>\n",
              "<p>2000 rows × 150 columns</p>\n",
              "</div>\n",
              "      <button class=\"colab-df-convert\" onclick=\"convertToInteractive('df-36b9d456-ed0b-41e0-9520-fbc65700e091')\"\n",
              "              title=\"Convert this dataframe to an interactive table.\"\n",
              "              style=\"display:none;\">\n",
              "        \n",
              "  <svg xmlns=\"http://www.w3.org/2000/svg\" height=\"24px\"viewBox=\"0 0 24 24\"\n",
              "       width=\"24px\">\n",
              "    <path d=\"M0 0h24v24H0V0z\" fill=\"none\"/>\n",
              "    <path d=\"M18.56 5.44l.94 2.06.94-2.06 2.06-.94-2.06-.94-.94-2.06-.94 2.06-2.06.94zm-11 1L8.5 8.5l.94-2.06 2.06-.94-2.06-.94L8.5 2.5l-.94 2.06-2.06.94zm10 10l.94 2.06.94-2.06 2.06-.94-2.06-.94-.94-2.06-.94 2.06-2.06.94z\"/><path d=\"M17.41 7.96l-1.37-1.37c-.4-.4-.92-.59-1.43-.59-.52 0-1.04.2-1.43.59L10.3 9.45l-7.72 7.72c-.78.78-.78 2.05 0 2.83L4 21.41c.39.39.9.59 1.41.59.51 0 1.02-.2 1.41-.59l7.78-7.78 2.81-2.81c.8-.78.8-2.07 0-2.86zM5.41 20L4 18.59l7.72-7.72 1.47 1.35L5.41 20z\"/>\n",
              "  </svg>\n",
              "      </button>\n",
              "      \n",
              "  <style>\n",
              "    .colab-df-container {\n",
              "      display:flex;\n",
              "      flex-wrap:wrap;\n",
              "      gap: 12px;\n",
              "    }\n",
              "\n",
              "    .colab-df-convert {\n",
              "      background-color: #E8F0FE;\n",
              "      border: none;\n",
              "      border-radius: 50%;\n",
              "      cursor: pointer;\n",
              "      display: none;\n",
              "      fill: #1967D2;\n",
              "      height: 32px;\n",
              "      padding: 0 0 0 0;\n",
              "      width: 32px;\n",
              "    }\n",
              "\n",
              "    .colab-df-convert:hover {\n",
              "      background-color: #E2EBFA;\n",
              "      box-shadow: 0px 1px 2px rgba(60, 64, 67, 0.3), 0px 1px 3px 1px rgba(60, 64, 67, 0.15);\n",
              "      fill: #174EA6;\n",
              "    }\n",
              "\n",
              "    [theme=dark] .colab-df-convert {\n",
              "      background-color: #3B4455;\n",
              "      fill: #D2E3FC;\n",
              "    }\n",
              "\n",
              "    [theme=dark] .colab-df-convert:hover {\n",
              "      background-color: #434B5C;\n",
              "      box-shadow: 0px 1px 3px 1px rgba(0, 0, 0, 0.15);\n",
              "      filter: drop-shadow(0px 1px 2px rgba(0, 0, 0, 0.3));\n",
              "      fill: #FFFFFF;\n",
              "    }\n",
              "  </style>\n",
              "\n",
              "      <script>\n",
              "        const buttonEl =\n",
              "          document.querySelector('#df-36b9d456-ed0b-41e0-9520-fbc65700e091 button.colab-df-convert');\n",
              "        buttonEl.style.display =\n",
              "          google.colab.kernel.accessAllowed ? 'block' : 'none';\n",
              "\n",
              "        async function convertToInteractive(key) {\n",
              "          const element = document.querySelector('#df-36b9d456-ed0b-41e0-9520-fbc65700e091');\n",
              "          const dataTable =\n",
              "            await google.colab.kernel.invokeFunction('convertToInteractive',\n",
              "                                                     [key], {});\n",
              "          if (!dataTable) return;\n",
              "\n",
              "          const docLinkHtml = 'Like what you see? Visit the ' +\n",
              "            '<a target=\"_blank\" href=https://colab.research.google.com/notebooks/data_table.ipynb>data table notebook</a>'\n",
              "            + ' to learn more about interactive tables.';\n",
              "          element.innerHTML = '';\n",
              "          dataTable['output_type'] = 'display_data';\n",
              "          await google.colab.output.renderOutput(dataTable, element);\n",
              "          const docLink = document.createElement('div');\n",
              "          docLink.innerHTML = docLinkHtml;\n",
              "          element.appendChild(docLink);\n",
              "        }\n",
              "      </script>\n",
              "    </div>\n",
              "  </div>\n",
              "  "
            ],
            "text/plain": [
              "      Amostra_0  Amostra_1  Amostra_2  ...  Amostra_147  Amostra_148  Amostra_149\n",
              "0            52         57         50  ...           40           19           30\n",
              "1            38         64         53  ...           45           37           50\n",
              "2            47         31         62  ...           35           60           37\n",
              "3            28         46         29  ...           40           46           36\n",
              "4            32         38         42  ...           46           39           23\n",
              "...         ...        ...        ...  ...          ...          ...          ...\n",
              "1995         63         46         31  ...           49           25           34\n",
              "1996         25         35         33  ...           65           53           28\n",
              "1997         40         56         63  ...           37           37           60\n",
              "1998         46         19         30  ...           45           54           53\n",
              "1999         55         42         45  ...           51           41           50\n",
              "\n",
              "[2000 rows x 150 columns]"
            ]
          },
          "metadata": {},
          "execution_count": 15
        }
      ]
    },
    {
      "cell_type": "code",
      "source": [
        "amostras.mean().hist()"
      ],
      "metadata": {
        "id": "3toh-sbMuw5W",
        "colab": {
          "base_uri": "https://localhost:8080/",
          "height": 282
        },
        "outputId": "f1b5b08a-d8b5-4c7d-ea67-04b52bb27261"
      },
      "execution_count": 16,
      "outputs": [
        {
          "output_type": "execute_result",
          "data": {
            "text/plain": [
              "<matplotlib.axes._subplots.AxesSubplot at 0x7fc4e75ed2d0>"
            ]
          },
          "metadata": {},
          "execution_count": 16
        },
        {
          "output_type": "display_data",
          "data": {
            "image/png": "[encoded data removed]",
            "text/plain": [
              "<Figure size 432x288 with 1 Axes>"
            ]
          },
          "metadata": {
            "needs_background": "light"
          }
        }
      ]
    },
    {
      "cell_type": "code",
      "source": [
        "dados.Idade.mean()"
      ],
      "metadata": {
        "id": "mIXngHajwRr4",
        "colab": {
          "base_uri": "https://localhost:8080/"
        },
        "outputId": "d408e558-de0c-473d-ad43-d5aae379a20c"
      },
      "execution_count": 17,
      "outputs": [
        {
          "output_type": "execute_result",
          "data": {
            "text/plain": [
              "44.07142113482561"
            ]
          },
          "metadata": {},
          "execution_count": 17
        }
      ]
    },
    {
      "cell_type": "code",
      "source": [
        "amostras.mean().mean()"
      ],
      "metadata": {
        "id": "D1uocZozwZuq",
        "colab": {
          "base_uri": "https://localhost:8080/"
        },
        "outputId": "81f61add-ec0c-405a-834f-cdfe2ba1d3a0"
      },
      "execution_count": 18,
      "outputs": [
        {
          "output_type": "execute_result",
          "data": {
            "text/plain": [
              "44.06422"
            ]
          },
          "metadata": {},
          "execution_count": 18
        }
      ]
    },
    {
      "cell_type": "markdown",
      "source": [
        "**Problema dos Sacos de Arroz**"
      ],
      "metadata": {
        "id": "70UwJuY80GNC"
      }
    },
    {
      "cell_type": "code",
      "source": [
        "# media amostral\n",
        "media_amostra = 5050\n",
        "media_amostra"
      ],
      "metadata": {
        "id": "HPFJSD6p0Kdv",
        "colab": {
          "base_uri": "https://localhost:8080/"
        },
        "outputId": "f7361b7e-fabc-4e79-87d0-7431f5966796"
      },
      "execution_count": 19,
      "outputs": [
        {
          "output_type": "execute_result",
          "data": {
            "text/plain": [
              "5050"
            ]
          },
          "metadata": {},
          "execution_count": 19
        }
      ]
    },
    {
      "cell_type": "code",
      "source": [
        "significancia = 0.05\n",
        "significancia"
      ],
      "metadata": {
        "id": "nSprSYcF0igk",
        "colab": {
          "base_uri": "https://localhost:8080/"
        },
        "outputId": "fbf4e962-811a-4334-dbc8-74af4ec2557f"
      },
      "execution_count": 20,
      "outputs": [
        {
          "output_type": "execute_result",
          "data": {
            "text/plain": [
              "0.05"
            ]
          },
          "metadata": {},
          "execution_count": 20
        }
      ]
    },
    {
      "cell_type": "code",
      "source": [
        "confianca = 1 - significancia\n",
        "confianca"
      ],
      "metadata": {
        "id": "BTp069l60lk6",
        "colab": {
          "base_uri": "https://localhost:8080/"
        },
        "outputId": "8ae58c22-e469-455f-f85e-7932b0765daf"
      },
      "execution_count": 21,
      "outputs": [
        {
          "output_type": "execute_result",
          "data": {
            "text/plain": [
              "0.95"
            ]
          },
          "metadata": {},
          "execution_count": 21
        }
      ]
    },
    {
      "cell_type": "code",
      "source": [
        "0.5 + confianca/2"
      ],
      "metadata": {
        "id": "HXGT0EXc1SQV",
        "colab": {
          "base_uri": "https://localhost:8080/"
        },
        "outputId": "0d7500d8-80e0-4bdd-8d06-2e5f3d9e73f1"
      },
      "execution_count": 22,
      "outputs": [
        {
          "output_type": "execute_result",
          "data": {
            "text/plain": [
              "0.975"
            ]
          },
          "metadata": {},
          "execution_count": 22
        }
      ]
    },
    {
      "cell_type": "code",
      "source": [
        "from scipy.stats import norm"
      ],
      "metadata": {
        "id": "iQe8qEFM40nR"
      },
      "execution_count": 23,
      "outputs": []
    },
    {
      "cell_type": "code",
      "source": [
        "Z = norm.ppf(0.975)\n",
        "Z"
      ],
      "metadata": {
        "id": "nM8BP4Ae5Dga",
        "colab": {
          "base_uri": "https://localhost:8080/"
        },
        "outputId": "eddd3f91-8a00-407a-878d-b947d9f5ea86"
      },
      "execution_count": 24,
      "outputs": [
        {
          "output_type": "execute_result",
          "data": {
            "text/plain": [
              "1.959963984540054"
            ]
          },
          "metadata": {},
          "execution_count": 24
        }
      ]
    },
    {
      "cell_type": "code",
      "source": [
        "#obtendo sigma: \n",
        "desvio_padrao = 150"
      ],
      "metadata": {
        "id": "ECJVUjee57Vw"
      },
      "execution_count": 25,
      "outputs": []
    },
    {
      "cell_type": "code",
      "source": [
        "n = 20\n",
        "n"
      ],
      "metadata": {
        "id": "GZZK7D1Y663Q",
        "colab": {
          "base_uri": "https://localhost:8080/"
        },
        "outputId": "5e0e3786-cb6a-46a3-bf23-4872485c0c02"
      },
      "execution_count": 26,
      "outputs": [
        {
          "output_type": "execute_result",
          "data": {
            "text/plain": [
              "20"
            ]
          },
          "metadata": {},
          "execution_count": 26
        }
      ]
    },
    {
      "cell_type": "code",
      "source": [
        "import numpy as np\n",
        "raiz_de_n = np.sqrt(n)\n",
        "raiz_de_n"
      ],
      "metadata": {
        "id": "cSipvYzx69OK",
        "colab": {
          "base_uri": "https://localhost:8080/"
        },
        "outputId": "7c1ee883-7c4c-45c5-bf36-68b94d597f25"
      },
      "execution_count": 27,
      "outputs": [
        {
          "output_type": "execute_result",
          "data": {
            "text/plain": [
              "4.47213595499958"
            ]
          },
          "metadata": {},
          "execution_count": 27
        }
      ]
    },
    {
      "cell_type": "code",
      "source": [
        "sigma = desvio_padrao/raiz_de_n\n",
        "sigma"
      ],
      "metadata": {
        "id": "m3As8DaO7LDp",
        "colab": {
          "base_uri": "https://localhost:8080/"
        },
        "outputId": "c503bcee-cd5d-4249-a2d0-6ef074c3adc4"
      },
      "execution_count": 28,
      "outputs": [
        {
          "output_type": "execute_result",
          "data": {
            "text/plain": [
              "33.54101966249684"
            ]
          },
          "metadata": {},
          "execution_count": 28
        }
      ]
    },
    {
      "cell_type": "code",
      "source": [
        "erro = Z * sigma\n",
        "erro\n",
        "print('A margem de erro é {:.2f}g'.format(erro))"
      ],
      "metadata": {
        "id": "dzlgO4c67P6V",
        "colab": {
          "base_uri": "https://localhost:8080/"
        },
        "outputId": "2920340c-d011-4894-92d9-4364755d70e2"
      },
      "execution_count": 29,
      "outputs": [
        {
          "output_type": "stream",
          "name": "stdout",
          "text": [
            "A margem de erro é 65.74g\n"
          ]
        }
      ]
    },
    {
      "cell_type": "code",
      "source": [
        "# intervalo de confiança da média \n",
        "intervalo = (\n",
        "    media_amostra - erro,\n",
        "    media_amostra + erro\n",
        ")"
      ],
      "metadata": {
        "id": "BENeQTE97eJP"
      },
      "execution_count": 30,
      "outputs": []
    },
    {
      "cell_type": "code",
      "source": [
        "intervalo = norm.interval(alpha = 0.95, loc = media_amostra , scale = sigma)\n",
        "intervalo"
      ],
      "metadata": {
        "id": "3qZm6-aA8GWh",
        "colab": {
          "base_uri": "https://localhost:8080/"
        },
        "outputId": "b6c9169c-d9e6-4f1e-b5d8-553772d89e56"
      },
      "execution_count": 31,
      "outputs": [
        {
          "output_type": "execute_result",
          "data": {
            "text/plain": [
              "(4984.260809456757, 5115.739190543243)"
            ]
          },
          "metadata": {},
          "execution_count": 31
        }
      ]
    },
    {
      "cell_type": "markdown",
      "source": [
        "Para estimar o valor médio gasto por cada cliente de uma grande rede de fast-food, foi selecionada uma amostra de 50 clientes.\n",
        "\n",
        "Assumindo que o valor do desvio padrão da população seja de R$ 6,00 e que esta população se distribui normalmente, obtenha a margem de erro desta estimativa para um nível de confiança de 95%."
      ],
      "metadata": {
        "id": "ZqZx2wRb8cBO"
      }
    },
    {
      "cell_type": "code",
      "source": [
        "z = norm.ppf(0.975)\n",
        "desvio_padrao = 6\n",
        "n = 50\n",
        "\n",
        "e = z * (desvio_padrao / np.sqrt(n))\n",
        "print(\"R$ {0:0.2f}\".format(e))"
      ],
      "metadata": {
        "id": "mcVCSmMs8exR",
        "colab": {
          "base_uri": "https://localhost:8080/"
        },
        "outputId": "d2d1c8f7-accb-4246-c5c4-ca841a6699b5"
      },
      "execution_count": 32,
      "outputs": [
        {
          "output_type": "stream",
          "name": "stdout",
          "text": [
            "R$ 1.66\n"
          ]
        }
      ]
    },
    {
      "cell_type": "markdown",
      "source": [
        "Uma amostra aleatória simples de 1976 itens de uma população normalmente distribuída, com desvio padrão populacional igual a 11, resultou em uma média amostral de 28.\n",
        "\n",
        "Qual o intervalo de confiança de 90% para a média populacional?"
      ],
      "metadata": {
        "id": "DMwcCxDy82va"
      }
    },
    {
      "cell_type": "code",
      "source": [
        "z = norm.ppf(0.90)\n",
        "desvio_padrao = 11 \n",
        "media_amostra = 28\n",
        "n = 1976 \n",
        "\n",
        "raiz_de_n = np.sqrt(n)\n",
        "sigma = desvio_padrao/raiz_de_n"
      ],
      "metadata": {
        "id": "jIgVEKSj83J_"
      },
      "execution_count": 33,
      "outputs": []
    },
    {
      "cell_type": "code",
      "source": [
        "intervalo = norm.interval(alpha = 0.90, loc = media_amostra , scale = sigma)\n",
        "intervalo"
      ],
      "metadata": {
        "id": "yo0cuNmD9SrI",
        "colab": {
          "base_uri": "https://localhost:8080/"
        },
        "outputId": "a29d8cf4-cb84-4bdd-b23d-2b1ae6beea6c"
      },
      "execution_count": 34,
      "outputs": [
        {
          "output_type": "execute_result",
          "data": {
            "text/plain": [
              "(27.592969951356466, 28.407030048643534)"
            ]
          },
          "metadata": {},
          "execution_count": 34
        }
      ]
    },
    {
      "cell_type": "markdown",
      "source": [
        "*Qual dever ser o tamanho da amostra de dados considerando o dp_populacional:*\n",
        " \n",
        "desvio padrao populacional = 3234.39;\n",
        "Rendimento medio; \n",
        "erro maximo = 100;\n",
        "confianca = 95/100;\n"
      ],
      "metadata": {
        "id": "IvAVQ6H-I6F0"
      }
    },
    {
      "cell_type": "code",
      "source": [
        "0.95/2"
      ],
      "metadata": {
        "id": "K7b7v9gvI0Bt",
        "colab": {
          "base_uri": "https://localhost:8080/"
        },
        "outputId": "64d40b66-5900-4547-cb20-55ecab30bb19"
      },
      "execution_count": 35,
      "outputs": [
        {
          "output_type": "execute_result",
          "data": {
            "text/plain": [
              "0.475"
            ]
          },
          "metadata": {},
          "execution_count": 35
        }
      ]
    },
    {
      "cell_type": "code",
      "source": [
        "0.475+0.5"
      ],
      "metadata": {
        "colab": {
          "base_uri": "https://localhost:8080/"
        },
        "id": "zzrcYXYmKNg0",
        "outputId": "e70d0f6c-3855-42c1-c028-e3f1c8299807"
      },
      "execution_count": 36,
      "outputs": [
        {
          "output_type": "execute_result",
          "data": {
            "text/plain": [
              "0.975"
            ]
          },
          "metadata": {},
          "execution_count": 36
        }
      ]
    },
    {
      "cell_type": "code",
      "source": [
        "z = norm.ppf(0.975)\n",
        "z"
      ],
      "metadata": {
        "colab": {
          "base_uri": "https://localhost:8080/"
        },
        "id": "_4zdyLvVKRfy",
        "outputId": "cd6b4d8e-f58e-4cab-d60f-30405486a01b"
      },
      "execution_count": 38,
      "outputs": [
        {
          "output_type": "execute_result",
          "data": {
            "text/plain": [
              "1.959963984540054"
            ]
          },
          "metadata": {},
          "execution_count": 38
        }
      ]
    },
    {
      "cell_type": "code",
      "source": [
        "sigma = 3323.39\n",
        "sigma"
      ],
      "metadata": {
        "colab": {
          "base_uri": "https://localhost:8080/"
        },
        "id": "h4HbHcwtKizV",
        "outputId": "48315b21-388e-4fbf-c72e-ad502b691c07"
      },
      "execution_count": 39,
      "outputs": [
        {
          "output_type": "execute_result",
          "data": {
            "text/plain": [
              "3323.39"
            ]
          },
          "metadata": {},
          "execution_count": 39
        }
      ]
    },
    {
      "cell_type": "code",
      "source": [
        "erro = 100\n",
        "erro "
      ],
      "metadata": {
        "colab": {
          "base_uri": "https://localhost:8080/"
        },
        "id": "H8A8BsJsKnVM",
        "outputId": "263bf902-bb7e-4404-b859-ebdc829d168b"
      },
      "execution_count": 41,
      "outputs": [
        {
          "output_type": "execute_result",
          "data": {
            "text/plain": [
              "100"
            ]
          },
          "metadata": {},
          "execution_count": 41
        }
      ]
    },
    {
      "cell_type": "code",
      "source": [
        "n = (z*(sigma/erro)) ** 2 \n",
        "int(n.round())"
      ],
      "metadata": {
        "colab": {
          "base_uri": "https://localhost:8080/"
        },
        "id": "8P9mmKwgWA3r",
        "outputId": "64ba908a-1420-44c6-c310-33996bdd3eae"
      },
      "execution_count": 45,
      "outputs": [
        {
          "output_type": "execute_result",
          "data": {
            "text/plain": [
              "4243"
            ]
          },
          "metadata": {},
          "execution_count": 45
        }
      ]
    },
    {
      "cell_type": "markdown",
      "source": [
        "O valor do gasto médio dos clientes de uma loja de conveniência é de 45,50. \n",
        "\n",
        "\n",
        "Assumindo que o desvio padrão dos gastos é igual a R$ 15,00, qual deve ser o tamanho da amostra para estimarmos a média populacional com um nível de significância de 10%? Considere que o erro máximo aceitável seja de 10%."
      ],
      "metadata": {
        "id": "Sf_Cv3oDXCkB"
      }
    },
    {
      "cell_type": "code",
      "source": [
        "media = 45.50\n",
        "sigma = 15.00\n",
        "\n",
        "erro = 0.10\n",
        "\n",
        "significancia = .10\n",
        "conf = 1-significancia\n",
        "conf"
      ],
      "metadata": {
        "colab": {
          "base_uri": "https://localhost:8080/"
        },
        "id": "BK_xKsx8XTM2",
        "outputId": "16dd299c-2739-481c-cd76-c015e0a531d0"
      },
      "execution_count": 60,
      "outputs": [
        {
          "output_type": "execute_result",
          "data": {
            "text/plain": [
              "0.9"
            ]
          },
          "metadata": {},
          "execution_count": 60
        }
      ]
    },
    {
      "cell_type": "code",
      "source": [
        "z = norm.ppf(0.5+(conf/2))\n",
        "z"
      ],
      "metadata": {
        "colab": {
          "base_uri": "https://localhost:8080/"
        },
        "id": "zlYAVzaWXgdf",
        "outputId": "7620ac87-b8f0-493e-a0cb-a3738d1cecee"
      },
      "execution_count": 55,
      "outputs": [
        {
          "output_type": "execute_result",
          "data": {
            "text/plain": [
              "1.6448536269514722"
            ]
          },
          "metadata": {},
          "execution_count": 55
        }
      ]
    },
    {
      "cell_type": "code",
      "source": [
        "erro_absoluto = media*erro\n",
        "erro_absoluto"
      ],
      "metadata": {
        "colab": {
          "base_uri": "https://localhost:8080/"
        },
        "id": "TqOwBa5OYIUM",
        "outputId": "b2086103-0039-4815-9ba7-2c387df97f25"
      },
      "execution_count": 58,
      "outputs": [
        {
          "output_type": "execute_result",
          "data": {
            "text/plain": [
              "4.55"
            ]
          },
          "metadata": {},
          "execution_count": 58
        }
      ]
    },
    {
      "cell_type": "code",
      "source": [
        "def aproximar(valor_amostra):\n",
        "    valor_amostra = round(valor_amostra)\n",
        "    int(valor_amostra)\n",
        "    print('A quantidade amostral suficiente para se aproximar a média é de {} elementos'.format(valor_amostra))"
      ],
      "metadata": {
        "id": "OvIjzzhdXutT"
      },
      "execution_count": 84,
      "outputs": []
    },
    {
      "cell_type": "code",
      "source": [
        "n = (z*(sigma/erro_absoluto)) ** 2 \n",
        "aproximar(n)"
      ],
      "metadata": {
        "colab": {
          "base_uri": "https://localhost:8080/"
        },
        "id": "LhMiOQcHeUOM",
        "outputId": "5e1947f8-c0f7-4c5b-e0bf-af01a9a3f8ab"
      },
      "execution_count": 85,
      "outputs": [
        {
          "output_type": "stream",
          "name": "stdout",
          "text": [
            "A quantidade amostral suficiente para se aproximar a média é de 42 elementos\n"
          ]
        }
      ]
    },
    {
      "cell_type": "markdown",
      "source": [
        "# Pop. Finita"
      ],
      "metadata": {
        "id": "qZULqJJxZPPu"
      }
    },
    {
      "cell_type": "markdown",
      "source": [
        "lote de 10.000 latas\n",
        "amostra aleatoria de 100 latas\n",
        "\n",
        "*  desvio padrao amostral do conteudo = 12ml\n",
        "*  erro max sobre a media de 5ml\n",
        "*  nivel de conf = 95%\n",
        "\n",
        "\n",
        "\n"
      ],
      "metadata": {
        "id": "vCGhypu8ZcFV"
      }
    },
    {
      "cell_type": "code",
      "source": [
        "# TAMANHO DA POPULAÇÃO IMPORTA!!!\n",
        "\n",
        "N = 10000\n",
        "z = norm.ppf(0.5 + (0.95/2))\n",
        "s = 12\n",
        "erro = 5"
      ],
      "metadata": {
        "id": "H8BSag9rZvGG"
      },
      "execution_count": 82,
      "outputs": []
    },
    {
      "cell_type": "code",
      "source": [
        "n = ((z**2) * (s**2) * (N)) / (((z**2) * (s**2)) + ((e**2) * (N - 1)))\n",
        "aproximar(n)"
      ],
      "metadata": {
        "colab": {
          "base_uri": "https://localhost:8080/"
        },
        "id": "sWhWkOVYdg1Y",
        "outputId": "a3b5e2cf-009a-4b14-f30f-561e3a33f74a"
      },
      "execution_count": 86,
      "outputs": [
        {
          "output_type": "stream",
          "name": "stdout",
          "text": [
            "A quantidade amostral suficiente para se aproximar a média é de 196 elementos\n"
          ]
        }
      ]
    },
    {
      "cell_type": "markdown",
      "source": [
        "Um fabricante de farinha verificou que, em uma amostra aleatória formada por 200 sacos de 25 kg de um lote formado por 2.000 sacos, apresentou um desvio padrão amostral do peso igual a 480 g.\n",
        "\n",
        "Considerando um erro máximo associado à média populacional igual a 0,3 kg e um nível de confiança igual a 95%, qual tamanho de amostra deveria ser selecionado para obtermos uma estimativa confiável do parâmetro populacional?"
      ],
      "metadata": {
        "id": "73Q0PUtQehJr"
      }
    },
    {
      "cell_type": "code",
      "source": [
        "N = 2000\n",
        "N"
      ],
      "metadata": {
        "colab": {
          "base_uri": "https://localhost:8080/"
        },
        "id": "sTPB19_ieht8",
        "outputId": "fc06862d-40a9-435a-8a95-5ba8ee191592"
      },
      "execution_count": 87,
      "outputs": [
        {
          "output_type": "execute_result",
          "data": {
            "text/plain": [
              "2000"
            ]
          },
          "metadata": {},
          "execution_count": 87
        }
      ]
    },
    {
      "cell_type": "code",
      "source": [
        "z = norm.ppf(0.5+(0.95/2))\n",
        "z"
      ],
      "metadata": {
        "colab": {
          "base_uri": "https://localhost:8080/"
        },
        "id": "uo5TRpYgevs7",
        "outputId": "8d61c4fa-0345-4cf0-d6e3-3dd671881306"
      },
      "execution_count": 89,
      "outputs": [
        {
          "output_type": "execute_result",
          "data": {
            "text/plain": [
              "1.959963984540054"
            ]
          },
          "metadata": {},
          "execution_count": 89
        }
      ]
    },
    {
      "cell_type": "code",
      "source": [
        "s = 480\n",
        "s"
      ],
      "metadata": {
        "colab": {
          "base_uri": "https://localhost:8080/"
        },
        "id": "e-0UNhCVe13S",
        "outputId": "5dca25ce-7000-42d3-9730-aa6e6ea29285"
      },
      "execution_count": 91,
      "outputs": [
        {
          "output_type": "execute_result",
          "data": {
            "text/plain": [
              "480"
            ]
          },
          "metadata": {},
          "execution_count": 91
        }
      ]
    },
    {
      "cell_type": "code",
      "source": [
        "e = 300\n",
        "e"
      ],
      "metadata": {
        "colab": {
          "base_uri": "https://localhost:8080/"
        },
        "id": "0-RGYilge-kq",
        "outputId": "524a9c5f-637c-4d87-ce80-f701df5129d5"
      },
      "execution_count": 97,
      "outputs": [
        {
          "output_type": "execute_result",
          "data": {
            "text/plain": [
              "300"
            ]
          },
          "metadata": {},
          "execution_count": 97
        }
      ]
    },
    {
      "cell_type": "code",
      "source": [
        "confianca=0.95\n",
        "confianca"
      ],
      "metadata": {
        "id": "k1wXXFBpfK8l",
        "outputId": "22d51a4c-fd0e-49d1-8f98-3c17980ce5bc",
        "colab": {
          "base_uri": "https://localhost:8080/"
        }
      },
      "execution_count": 93,
      "outputs": [
        {
          "output_type": "execute_result",
          "data": {
            "text/plain": [
              "0.95"
            ]
          },
          "metadata": {},
          "execution_count": 93
        }
      ]
    },
    {
      "cell_type": "code",
      "source": [
        "n = ((z**2) * (s**2) * (N)) / (((z**2) * (s**2)) + ((e**2) * (N - 1)))\n",
        "int(n.round())"
      ],
      "metadata": {
        "id": "ukwOGvM_fP9s",
        "outputId": "e0131b69-cd84-4e3a-e115-8212aeb2072d",
        "colab": {
          "base_uri": "https://localhost:8080/"
        }
      },
      "execution_count": 98,
      "outputs": [
        {
          "output_type": "execute_result",
          "data": {
            "text/plain": [
              "10"
            ]
          },
          "metadata": {},
          "execution_count": 98
        }
      ]
    }
  ]
}