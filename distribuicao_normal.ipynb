{
  "nbformat": 4,
  "nbformat_minor": 0,
  "metadata": {
    "colab": {
      "name": "distribuicao_normal.ipynb",
      "provenance": [],
      "authorship_tag": "ABX9TyOCLb4BQAtDCzBRQZS2qPmf",
      "include_colab_link": true
    },
    "kernelspec": {
      "name": "python3",
      "display_name": "Python 3"
    },
    "language_info": {
      "name": "python"
    }
  },
  "cells": [
    {
      "cell_type": "markdown",
      "metadata": {
        "id": "view-in-github",
        "colab_type": "text"
      },
      "source": [
        "<a href=\"https://colab.research.google.com/github/bernardogoltz/datascience_python_probabilidade/blob/main/distribuicao_normal.ipynb\" target=\"_parent\"><img src=\"https://colab.research.google.com/assets/colab-badge.svg\" alt=\"Open In Colab\"/></a>"
      ]
    },
    {
      "cell_type": "markdown",
      "source": [
        "# Distribuição Normal\n"
      ],
      "metadata": {
        "id": "a6zAHBXjFVGO"
      }
    },
    {
      "cell_type": "markdown",
      "source": [
        "#### Em um estudo sobre alturas dos moradores de uma cidade, verificou-se que o conjunto de dados segue uma aproximada Distribuição Normal, com média de 1,70 metros e desvio padrão de 0.1.\n"
      ],
      "metadata": {
        "id": "rtOkmQf_FPqJ"
      }
    },
    {
      "cell_type": "code",
      "source": [
        "import pandas as pd\n",
        "import numpy as np\n",
        "from scipy.stats import norm"
      ],
      "metadata": {
        "id": "U5BgKWbBFZCS"
      },
      "execution_count": 152,
      "outputs": []
    },
    {
      "cell_type": "code",
      "source": [
        "media = 1.7\n",
        "desvio_padrao = 0.1"
      ],
      "metadata": {
        "id": "x6J0Xg9kJsBy"
      },
      "execution_count": 153,
      "outputs": []
    },
    {
      "cell_type": "code",
      "source": [
        "Z = (1.8-media)/desvio_padrao\n",
        "Z"
      ],
      "metadata": {
        "colab": {
          "base_uri": "https://localhost:8080/"
        },
        "id": "pTW3243CKr2F",
        "outputId": "fe72d4ab-b121-479c-a90a-ff9109708c9e"
      },
      "execution_count": 154,
      "outputs": [
        {
          "output_type": "execute_result",
          "data": {
            "text/plain": [
              "1.0000000000000009"
            ]
          },
          "metadata": {},
          "execution_count": 154
        }
      ]
    },
    {
      "cell_type": "code",
      "source": [
        "from scipy.stats import norm \n",
        "norm.cdf(Z)"
      ],
      "metadata": {
        "colab": {
          "base_uri": "https://localhost:8080/"
        },
        "id": "Ja-pLLUJLpFY",
        "outputId": "726d6c76-d1b0-4a43-fc3e-b39e1fa46bf7"
      },
      "execution_count": 155,
      "outputs": [
        {
          "output_type": "execute_result",
          "data": {
            "text/plain": [
              "0.8413447460685431"
            ]
          },
          "metadata": {},
          "execution_count": 155
        }
      ]
    },
    {
      "cell_type": "markdown",
      "source": [
        "#### A aplicação de uma prova de estatística em um concurso apresentou um conjunto de notas normalmente distribuídas. Verificou-se que o conjunto de notas tinha média 70 e desvio padrão de 5 pontos.\n",
        "\n",
        "#### Qual a probabilidade de um aluno, selecionado ao acaso, ter nota menor que 85?"
      ],
      "metadata": {
        "id": "W378oL-AtBT8"
      }
    },
    {
      "cell_type": "code",
      "source": [
        "media = 70\n",
        "desvio_padrao = 5\n",
        "Z = (85-media) / desvio_padrao\n",
        "Z"
      ],
      "metadata": {
        "colab": {
          "base_uri": "https://localhost:8080/"
        },
        "id": "GFX7b7iQtDoS",
        "outputId": "ccb20da4-f46c-4230-fc53-2e142cdff4b0"
      },
      "execution_count": 156,
      "outputs": [
        {
          "output_type": "execute_result",
          "data": {
            "text/plain": [
              "3.0"
            ]
          },
          "metadata": {},
          "execution_count": 156
        }
      ]
    },
    {
      "cell_type": "code",
      "source": [
        "chance = norm.cdf(Z)*100\n",
        "print('{:.2f}% dos alunos tendem a obter uma nota menor que 85/100'.format(chance))"
      ],
      "metadata": {
        "colab": {
          "base_uri": "https://localhost:8080/"
        },
        "id": "EzmivSkLtbcq",
        "outputId": "9e40b2e9-74c3-41bd-d716-4acc8612e1fc"
      },
      "execution_count": 157,
      "outputs": [
        {
          "output_type": "stream",
          "name": "stdout",
          "text": [
            "99.87% dos alunos tendem a obter uma nota menor que 85/100\n"
          ]
        }
      ]
    },
    {
      "cell_type": "markdown",
      "source": [
        "Probabilidade de uma pessoa selecionada ao acaso de ter entre 1,60 e 1,80 metros de altura."
      ],
      "metadata": {
        "id": "RAPQ6INXylX_"
      }
    },
    {
      "cell_type": "code",
      "source": [
        "media = 1.7\n",
        "desvio_padrao = 0.1"
      ],
      "metadata": {
        "id": "Cp6ME_STyohd"
      },
      "execution_count": 158,
      "outputs": []
    },
    {
      "cell_type": "code",
      "source": [
        "# variavel padronizada Z\n",
        "Z = (1.7-media) / desvio_padrao\n",
        "Z"
      ],
      "metadata": {
        "colab": {
          "base_uri": "https://localhost:8080/"
        },
        "id": "zeHaB370zLXd",
        "outputId": "da657953-e967-47d5-8dbe-c41a65c727cd"
      },
      "execution_count": 159,
      "outputs": [
        {
          "output_type": "execute_result",
          "data": {
            "text/plain": [
              "0.0"
            ]
          },
          "metadata": {},
          "execution_count": 159
        }
      ]
    },
    {
      "cell_type": "code",
      "source": [
        "Z_superior = (1.8-media) / desvio_padrao\n",
        "round(Z_superior)"
      ],
      "metadata": {
        "colab": {
          "base_uri": "https://localhost:8080/"
        },
        "id": "4Du8SPfWzWfo",
        "outputId": "cccb2a34-1513-4e7f-b6df-9a1d62efe060"
      },
      "execution_count": 160,
      "outputs": [
        {
          "output_type": "execute_result",
          "data": {
            "text/plain": [
              "1"
            ]
          },
          "metadata": {},
          "execution_count": 160
        }
      ]
    },
    {
      "cell_type": "code",
      "source": [
        "Z_inferior = (1.6 - media) / desvio_padrao\n",
        "round(Z_inferior)"
      ],
      "metadata": {
        "colab": {
          "base_uri": "https://localhost:8080/"
        },
        "id": "GHEBY4qR1JaY",
        "outputId": "615339fb-39d8-4aea-ead4-1fb8af3d34d5"
      },
      "execution_count": 161,
      "outputs": [
        {
          "output_type": "execute_result",
          "data": {
            "text/plain": [
              "-1"
            ]
          },
          "metadata": {},
          "execution_count": 161
        }
      ]
    },
    {
      "cell_type": "code",
      "source": [
        "def percent (numero):\n",
        "    numero_percent = numero*100\n",
        "    numero_percent = round(numero_percent,5)\n",
        "    numero_percent = str(numero_percent)\n",
        "\n",
        "    resultado = 'A probabiliade do evento ocorrer é de '+numero_percent+'%'\n",
        "    return resultado"
      ],
      "metadata": {
        "id": "lpirEFJP2_nq"
      },
      "execution_count": 162,
      "outputs": []
    },
    {
      "cell_type": "code",
      "source": [
        "probabilidade = norm.cdf(Z_superior, Z_inferior)\n",
        "percent(probabilidade)"
      ],
      "metadata": {
        "colab": {
          "base_uri": "https://localhost:8080/",
          "height": 35
        },
        "id": "GiCiRrPw1TnS",
        "outputId": "810b2f0a-a42f-42f7-aa23-76e643a16768"
      },
      "execution_count": 163,
      "outputs": [
        {
          "output_type": "execute_result",
          "data": {
            "application/vnd.google.colaboratory.intrinsic+json": {
              "type": "string"
            },
            "text/plain": [
              "'A probabiliade do evento ocorrer é de 97.72499%'"
            ]
          },
          "metadata": {},
          "execution_count": 163
        }
      ]
    },
    {
      "cell_type": "code",
      "source": [
        "probabilidade = norm.cdf(Z_superior) - norm.cdf(Z_inferior)\n",
        "percent(probabilidade)"
      ],
      "metadata": {
        "colab": {
          "base_uri": "https://localhost:8080/",
          "height": 35
        },
        "id": "PKs7eUDi8S3P",
        "outputId": "46498656-7813-4c44-ff4c-319fe21e53e4"
      },
      "execution_count": 164,
      "outputs": [
        {
          "output_type": "execute_result",
          "data": {
            "application/vnd.google.colaboratory.intrinsic+json": {
              "type": "string"
            },
            "text/plain": [
              "'A probabiliade do evento ocorrer é de 68.26895%'"
            ]
          },
          "metadata": {},
          "execution_count": 164
        }
      ]
    },
    {
      "cell_type": "markdown",
      "source": [
        "Media = 300 , 00 \n",
        "Dp = 50 , 00 \n",
        "\n",
        "\n",
        "> probabilidades de ganhar: \n",
        "\n",
        "1) Entre 250,00 e  350,00"
      ],
      "metadata": {
        "id": "wRU7wy_M9Zmz"
      }
    },
    {
      "cell_type": "code",
      "source": [
        "media = 300 \n",
        "desvio_padrao = 50"
      ],
      "metadata": {
        "id": "qDgc_b4A9bDc"
      },
      "execution_count": 165,
      "outputs": []
    },
    {
      "cell_type": "code",
      "source": [
        "Z_superior = (350-media) / desvio_padrao\n",
        "round(Z_superior)\n",
        "Z_superior"
      ],
      "metadata": {
        "colab": {
          "base_uri": "https://localhost:8080/"
        },
        "id": "Vj9-K4Jj_R4y",
        "outputId": "407c27c9-a3ee-4477-e282-775633c62862"
      },
      "execution_count": 166,
      "outputs": [
        {
          "output_type": "execute_result",
          "data": {
            "text/plain": [
              "1.0"
            ]
          },
          "metadata": {},
          "execution_count": 166
        }
      ]
    },
    {
      "cell_type": "code",
      "source": [
        "Z_inferior = (250-media) / desvio_padrao\n",
        "round(Z_inferior)\n",
        "Z_inferior"
      ],
      "metadata": {
        "colab": {
          "base_uri": "https://localhost:8080/"
        },
        "id": "Fie2e_va_efY",
        "outputId": "0e2e811a-caad-43df-93ec-afda8c7e85a4"
      },
      "execution_count": 167,
      "outputs": [
        {
          "output_type": "execute_result",
          "data": {
            "text/plain": [
              "-1.0"
            ]
          },
          "metadata": {},
          "execution_count": 167
        }
      ]
    },
    {
      "cell_type": "code",
      "source": [
        "probabilidade = norm.cdf(Z_superior) - norm.cdf(Z_inferior)\n",
        "percent(probabilidade)"
      ],
      "metadata": {
        "colab": {
          "base_uri": "https://localhost:8080/",
          "height": 35
        },
        "id": "i3mY6p9L_lIC",
        "outputId": "8276a577-d3e2-4074-8dad-c264e1fa72c1"
      },
      "execution_count": 168,
      "outputs": [
        {
          "output_type": "execute_result",
          "data": {
            "application/vnd.google.colaboratory.intrinsic+json": {
              "type": "string"
            },
            "text/plain": [
              "'A probabiliade do evento ocorrer é de 68.26895%'"
            ]
          },
          "metadata": {},
          "execution_count": 168
        }
      ]
    },
    {
      "cell_type": "markdown",
      "source": [
        "Probabilidade de uma pessoa ter mais de 1.9m\n"
      ],
      "metadata": {
        "id": "ISQaxtD_AGWo"
      }
    },
    {
      "cell_type": "code",
      "source": [
        "media = 1.7\n",
        "desvio_padrao = 0.1\n",
        "Z = (1.9-media) / desvio_padrao\n",
        "probabilidade = 1 - norm.cdf(Z)\n",
        "probabilidade"
      ],
      "metadata": {
        "colab": {
          "base_uri": "https://localhost:8080/"
        },
        "id": "wgsNy8WTDuqG",
        "outputId": "fbcf621f-208b-4bbc-9310-5d0a3093e127"
      },
      "execution_count": 169,
      "outputs": [
        {
          "output_type": "execute_result",
          "data": {
            "text/plain": [
              "0.02275013194817921"
            ]
          },
          "metadata": {},
          "execution_count": 169
        }
      ]
    },
    {
      "cell_type": "markdown",
      "source": [
        "O Inmetro verificou que as lâmpadas incandescentes da fabricante XPTO apresentam uma vida útil normalmente distribuída, com média igual a 720 dias e desvio padrão igual a 30 dias. Calcule a probabilidade de uma lâmpada, escolhida ao acaso, durar:\n",
        "\n",
        "> 1.  650 e 750 dias\n",
        "> 2.  mais que 800 dias\n",
        "> 3.  menos que  700 dias"
      ],
      "metadata": {
        "id": "s8f4-oocF7Po"
      }
    },
    {
      "cell_type": "code",
      "source": [
        "from scipy.stats import norm\n",
        "\n",
        "media = 720\n",
        "desvio_padrao = 30\n",
        "\n",
        "# Item A\n",
        "Z_inferior = (650 - media) / desvio_padrao\n",
        "Z_superior = (750 - media) / desvio_padrao\n",
        "\n",
        "probabilidade = norm.cdf(Z_superior) - norm.cdf(Z_inferior)\n",
        "print(\"{0:.2%}\".format(probabilidade))"
      ],
      "metadata": {
        "colab": {
          "base_uri": "https://localhost:8080/"
        },
        "id": "ei2CVpkoGfi0",
        "outputId": "d09a7203-0bb0-407b-ef34-9e727f14e0f2"
      },
      "execution_count": 170,
      "outputs": [
        {
          "output_type": "stream",
          "name": "stdout",
          "text": [
            "83.15%\n"
          ]
        }
      ]
    },
    {
      "cell_type": "code",
      "source": [
        "Z = (800 - media) / desvio_padrao\n",
        "\n",
        "probabilidade = 1 - norm.cdf(Z)\n",
        "probabilidade*100"
      ],
      "metadata": {
        "colab": {
          "base_uri": "https://localhost:8080/"
        },
        "id": "6_1JtcHGGpJW",
        "outputId": "d37fa696-3ec3-478b-e61d-cdae169efdc4"
      },
      "execution_count": 171,
      "outputs": [
        {
          "output_type": "execute_result",
          "data": {
            "text/plain": [
              "0.3830380567589775"
            ]
          },
          "metadata": {},
          "execution_count": 171
        }
      ]
    },
    {
      "cell_type": "code",
      "source": [
        "Z = (700 - media) / desvio_padrao\n",
        "\n",
        "probabilidade = norm.cdf(Z)\n",
        "probabilidade*100"
      ],
      "metadata": {
        "colab": {
          "base_uri": "https://localhost:8080/"
        },
        "id": "KKVUMtW8HYK3",
        "outputId": "627025e2-58fa-4b36-aea9-70e870ee21db"
      },
      "execution_count": 172,
      "outputs": [
        {
          "output_type": "execute_result",
          "data": {
            "text/plain": [
              "25.24925375469229"
            ]
          },
          "metadata": {},
          "execution_count": 172
        }
      ]
    }
  ]
}