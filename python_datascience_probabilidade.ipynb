{
  "nbformat": 4,
  "nbformat_minor": 0,
  "metadata": {
    "colab": {
      "name": "python-datascience -probabilidade.ipynb",
      "provenance": [],
      "authorship_tag": "ABX9TyPn6arFr9N6ElYbHPxie0mN",
      "include_colab_link": true
    },
    "kernelspec": {
      "name": "python3",
      "display_name": "Python 3"
    },
    "language_info": {
      "name": "python"
    }
  },
  "cells": [
    {
      "cell_type": "markdown",
      "metadata": {
        "id": "view-in-github",
        "colab_type": "text"
      },
      "source": [
        "<a href=\"https://colab.research.google.com/github/bernardogoltz/projeto-analises-descritivas/blob/main/python_datascience_probabilidade.ipynb\" target=\"_parent\"><img src=\"https://colab.research.google.com/assets/colab-badge.svg\" alt=\"Open In Colab\"/></a>"
      ]
    },
    {
      "cell_type": "markdown",
      "source": [
        "# **Mega Sena**\n",
        "\n",
        "> Em um volante de loteria da Mega Sena temos um total de 60 números para escolher onde a aposta mínima é de seis números. Você que é curiosa(o) resolve calcular a probabilidade de se acertar na Mega Sena com apenas um jogo. Para isso precisamos saber quantas combinações de seis números podem ser formadas com os 60 números disponíveis.\n",
        "\n"
      ],
      "metadata": {
        "id": "QpriWg49kwVf"
      }
    },
    {
      "cell_type": "code",
      "source": [
        "from scipy.special import comb "
      ],
      "metadata": {
        "id": "_E3GcVyBlE6r"
      },
      "execution_count": 2,
      "outputs": []
    },
    {
      "cell_type": "code",
      "source": [
        "opcoes = 60\n",
        "escolhas = 6\n",
        "\n",
        "espaco_amostral = (comb(opcoes,escolhas))\n",
        "print('O espaço amostral é de {}'.format(espaco_amostral))\n",
        "\n",
        "num_de_jogos = 1 "
      ],
      "metadata": {
        "colab": {
          "base_uri": "https://localhost:8080/"
        },
        "id": "3a4Rfdo2k-v4",
        "outputId": "355b4001-6285-4f31-cf45-1b00bb0eb334"
      },
      "execution_count": 6,
      "outputs": [
        {
          "output_type": "stream",
          "name": "stdout",
          "text": [
            "O espaço amostral é de 50063860.0\n"
          ]
        }
      ]
    },
    {
      "cell_type": "code",
      "source": [
        "probalilidade = (num_de_jogos/espaco_amostral)\n",
        "print('Chance = {:.15f}'.format(probalilidade))\n",
        "\n",
        "chance_percent = probalilidade*100\n",
        "print('Percentual de ganhar = {:.15f}%'.format(probalilidade))"
      ],
      "metadata": {
        "colab": {
          "base_uri": "https://localhost:8080/"
        },
        "id": "1yq47ygDlCWs",
        "outputId": "ec70a6f7-8818-49e9-cf32-1565786c9f6a"
      },
      "execution_count": 8,
      "outputs": [
        {
          "output_type": "stream",
          "name": "stdout",
          "text": [
            "Chance = 0.000000019974489\n",
            "Percentual de ganhar = 0.000000019974489%\n"
          ]
        }
      ]
    },
    {
      "cell_type": "markdown",
      "source": [
        "# Exemplo: Concurso para cientista de dados"
      ],
      "metadata": {
        "id": "InDPoCMrmh7e"
      }
    },
    {
      "cell_type": "markdown",
      "source": [
        "> \n",
        "Em um concurso para preencher uma vaga de cientista de dados temos um total de 10 questões de múltipla escolha com 3 alternativas possíveis em cada questão. Cada questão tem o mesmo valor. Suponha que um candidato resolva se aventurar sem ter estudado absolutamente nada. Ele resolve fazer a prova de olhos vendados e chutar todas as resposta. Assumindo que a prova vale 10 pontos e a nota de corte seja 5, obtenha a probabilidade deste candidato acertar 5 questões e também a probabilidade deste candidato passar para a próxima etapa do processo seletivo."
      ],
      "metadata": {
        "id": "7Ybwoakfmmma"
      }
    },
    {
      "cell_type": "markdown",
      "source": [
        "### Qual o numero de ensaios??\n"
      ],
      "metadata": {
        "id": "I6UiJH_xmz3w"
      }
    },
    {
      "cell_type": "code",
      "source": [
        "n = "
      ],
      "metadata": {
        "id": "rT2d1IXhm3sr"
      },
      "execution_count": null,
      "outputs": []
    },
    {
      "cell_type": "markdown",
      "source": [
        ""
      ],
      "metadata": {
        "id": "FsvfYqMGmzOR"
      }
    }
  ]
}