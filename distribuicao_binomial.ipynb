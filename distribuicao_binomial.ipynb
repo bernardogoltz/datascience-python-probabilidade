{
  "nbformat": 4,
  "nbformat_minor": 0,
  "metadata": {
    "colab": {
      "name": "distribuicao_binomial",
      "provenance": [],
      "authorship_tag": "ABX9TyOJOJaarEDEg+Tm1QJQ3i+b",
      "include_colab_link": true
    },
    "kernelspec": {
      "name": "python3",
      "display_name": "Python 3"
    },
    "language_info": {
      "name": "python"
    }
  },
  "cells": [
    {
      "cell_type": "markdown",
      "metadata": {
        "id": "view-in-github",
        "colab_type": "text"
      },
      "source": [
        "<a href=\"https://colab.research.google.com/github/bernardogoltz/datascience_python_probabilidade/blob/main/distribuicao_binomial.ipynb\" target=\"_parent\"><img src=\"https://colab.research.google.com/assets/colab-badge.svg\" alt=\"Open In Colab\"/></a>"
      ]
    },
    {
      "cell_type": "markdown",
      "source": [
        "# **Mega Sena**\n",
        "\n",
        "> Em um volante de loteria da Mega Sena temos um total de 60 números para escolher onde a aposta mínima é de seis números. Você que é curiosa(o) resolve calcular a probabilidade de se acertar na Mega Sena com apenas um jogo. Para isso precisamos saber quantas combinações de seis números podem ser formadas com os 60 números disponíveis.\n",
        "\n"
      ],
      "metadata": {
        "id": "QpriWg49kwVf"
      }
    },
    {
      "cell_type": "code",
      "source": [
        "from scipy.special import comb "
      ],
      "metadata": {
        "id": "_E3GcVyBlE6r"
      },
      "execution_count": 80,
      "outputs": []
    },
    {
      "cell_type": "code",
      "source": [
        "opcoes = 60\n",
        "escolhas = 6\n",
        "\n",
        "espaco_amostral = (comb(opcoes,escolhas))\n",
        "print('O espaço amostral é de {}'.format(espaco_amostral))\n",
        "\n",
        "num_de_jogos = 1 "
      ],
      "metadata": {
        "colab": {
          "base_uri": "https://localhost:8080/"
        },
        "id": "3a4Rfdo2k-v4",
        "outputId": "e834f185-4cc6-44a7-a253-077c839923ed"
      },
      "execution_count": 81,
      "outputs": [
        {
          "output_type": "stream",
          "name": "stdout",
          "text": [
            "O espaço amostral é de 50063860.0\n"
          ]
        }
      ]
    },
    {
      "cell_type": "code",
      "source": [
        "probalilidade = (num_de_jogos/espaco_amostral)\n",
        "print('Chance = {:.15f}'.format(probalilidade))\n",
        "\n",
        "chance_percent = probalilidade*100\n",
        "print('Percentual de ganhar = {:.15f}%'.format(probalilidade))"
      ],
      "metadata": {
        "colab": {
          "base_uri": "https://localhost:8080/"
        },
        "id": "1yq47ygDlCWs",
        "outputId": "fbc263a6-05dd-4b06-865c-0633e8dc35fc"
      },
      "execution_count": 82,
      "outputs": [
        {
          "output_type": "stream",
          "name": "stdout",
          "text": [
            "Chance = 0.000000019974489\n",
            "Percentual de ganhar = 0.000000019974489%\n"
          ]
        }
      ]
    },
    {
      "cell_type": "markdown",
      "source": [
        "# Exemplo: Concurso para cientista de dados"
      ],
      "metadata": {
        "id": "InDPoCMrmh7e"
      }
    },
    {
      "cell_type": "markdown",
      "source": [
        "> \n",
        "Em um concurso para preencher uma vaga de cientista de dados temos um total de 10 questões de múltipla escolha com 3 alternativas possíveis em cada questão. Cada questão tem o mesmo valor. Suponha que um candidato resolva se aventurar sem ter estudado absolutamente nada. Ele resolve fazer a prova de olhos vendados e chutar todas as resposta. Assumindo que a prova vale 10 pontos e a nota de corte seja 5, obtenha a probabilidade deste candidato acertar 5 questões e também a probabilidade deste candidato passar para a próxima etapa do processo seletivo."
      ],
      "metadata": {
        "id": "7Ybwoakfmmma"
      }
    },
    {
      "cell_type": "markdown",
      "source": [
        "##Qual o numero de ensaios??\n"
      ],
      "metadata": {
        "id": "I6UiJH_xmz3w"
      }
    },
    {
      "cell_type": "code",
      "source": [
        "n = 10\n",
        "# Cada questão é um experimento, portanto, existem 10 ensaios, 10 opções para se analisar as probabilidades. \n",
        "\n",
        "print('O numero de ensaios é {}'.format(n))"
      ],
      "metadata": {
        "colab": {
          "base_uri": "https://localhost:8080/"
        },
        "id": "rT2d1IXhm3sr",
        "outputId": "f644f871-f3bf-49a9-ed84-79587e66831a"
      },
      "execution_count": 83,
      "outputs": [
        {
          "output_type": "stream",
          "name": "stdout",
          "text": [
            "O numero de ensaios é 10\n"
          ]
        }
      ]
    },
    {
      "cell_type": "markdown",
      "source": [
        "*   Os ensaios são independentes, o resultado de uma opção não influi em nenhuma outra\n",
        "*   Para cada ensaio há 3 **opções**, mas somente 2 **resultados**"
      ],
      "metadata": {
        "id": "bV1BzWlloSm2"
      }
    },
    {
      "cell_type": "code",
      "source": [
        "# probabilidade de sucesso\n",
        "alternativas_por_questao = 3\n",
        "\n",
        "# Existem 2 resultados, mas apenas 1 correto, \n",
        "# por isso usamos 1/alternativas_por_questao\n",
        "p = 1/alternativas_por_questao\n",
        "p"
      ],
      "metadata": {
        "colab": {
          "base_uri": "https://localhost:8080/"
        },
        "id": "ZcIIEnObrcQb",
        "outputId": "ba3e832b-d5ae-41d0-920c-ecbb05c6cc04"
      },
      "execution_count": 84,
      "outputs": [
        {
          "output_type": "execute_result",
          "data": {
            "text/plain": [
              "0.3333333333333333"
            ]
          },
          "metadata": {},
          "execution_count": 84
        }
      ]
    },
    {
      "cell_type": "code",
      "source": [
        "#probabilidade de fracasso\n",
        "q = 1 - p\n",
        "q"
      ],
      "metadata": {
        "colab": {
          "base_uri": "https://localhost:8080/"
        },
        "id": "y7fvOQw0rsYM",
        "outputId": "a5812235-8f22-43fd-f63d-f9f5ea4627a7"
      },
      "execution_count": 85,
      "outputs": [
        {
          "output_type": "execute_result",
          "data": {
            "text/plain": [
              "0.6666666666666667"
            ]
          },
          "metadata": {},
          "execution_count": 85
        }
      ]
    },
    {
      "cell_type": "code",
      "source": [
        "# numero de eventos em que se deseja obter sucesso = k\n",
        "# = nota de corte = 5\n",
        "k = 5"
      ],
      "metadata": {
        "id": "KfK97il_r46k"
      },
      "execution_count": 86,
      "outputs": []
    },
    {
      "cell_type": "code",
      "source": [
        "# Solução 1\n",
        "probabilidade = (comb(n,k)*(p**k)*(q ** (n - k)))\n",
        "print('Probabilidade = {:.3f}'.format(probabilidade))\n",
        "\n",
        "probabilidade_percent = (probabilidade*100)\n",
        "print('Probabilidade (%) = {:.3f}%'.format(probabilidade_percent))\n",
        "\n",
        "#probabilidade de acertar 5 questoes (k=5)"
      ],
      "metadata": {
        "colab": {
          "base_uri": "https://localhost:8080/"
        },
        "id": "eXf1uN7Ts19m",
        "outputId": "82251593-2d6f-44e1-dc73-e631c23f4ba8"
      },
      "execution_count": 87,
      "outputs": [
        {
          "output_type": "stream",
          "name": "stdout",
          "text": [
            "Probabilidade = 0.137\n",
            "Probabilidade (%) = 13.656%\n"
          ]
        }
      ]
    },
    {
      "cell_type": "code",
      "source": [
        "from scipy.stats import binom\n",
        "probabilidade = binom.pmf(k,n,p)\n",
        "print('Probabilidade = {:.3f}'.format(probabilidade))"
      ],
      "metadata": {
        "colab": {
          "base_uri": "https://localhost:8080/"
        },
        "id": "0p1lZYZ-tbkn",
        "outputId": "4bc0fc14-81be-4fad-9d00-b3f53855297e"
      },
      "execution_count": 88,
      "outputs": [
        {
          "output_type": "stream",
          "name": "stdout",
          "text": [
            "Probabilidade = 0.137\n"
          ]
        }
      ]
    },
    {
      "cell_type": "code",
      "source": [
        "# Probabilidade de passar (diferente da probabilidade de acertar 5, é acertar qualquer coisa maior que 5)\n",
        "probabilidade_passar = (binom.pmf(k,n,p) + binom.pmf(6,n,p)  + binom.pmf(7,n,p)  + binom.pmf(8,n,p)  + binom.pmf(9,n,p) + binom.pmf(10,n,p))\n",
        "print('Probabilidade = {:.3f}'.format(probabilidade_passar))"
      ],
      "metadata": {
        "colab": {
          "base_uri": "https://localhost:8080/"
        },
        "id": "LmsvK_t1vDxT",
        "outputId": "e5e0d67a-985e-4a5e-aa67-942cf79bf58b"
      },
      "execution_count": 89,
      "outputs": [
        {
          "output_type": "stream",
          "name": "stdout",
          "text": [
            "Probabilidade = 0.213\n"
          ]
        }
      ]
    },
    {
      "cell_type": "code",
      "source": [
        "probabilidade_passar = 1 - binom.cdf(4,n,p)\n",
        "probabilidade_passar"
      ],
      "metadata": {
        "colab": {
          "base_uri": "https://localhost:8080/"
        },
        "id": "wb_ctKUIv7Ei",
        "outputId": "df61687b-cfdb-431e-dd4b-8fd7130619f0"
      },
      "execution_count": 90,
      "outputs": [
        {
          "output_type": "execute_result",
          "data": {
            "text/plain": [
              "0.21312808006909512"
            ]
          },
          "metadata": {},
          "execution_count": 90
        }
      ]
    },
    {
      "cell_type": "code",
      "source": [
        "binom.sf(4 , n , p)"
      ],
      "metadata": {
        "colab": {
          "base_uri": "https://localhost:8080/"
        },
        "id": "9JVwom4FwwxV",
        "outputId": "cce343f5-11ed-459e-8962-12663395c62c"
      },
      "execution_count": 91,
      "outputs": [
        {
          "output_type": "execute_result",
          "data": {
            "text/plain": [
              "0.21312808006909517"
            ]
          },
          "metadata": {},
          "execution_count": 91
        }
      ]
    },
    {
      "cell_type": "markdown",
      "source": [
        ""
      ],
      "metadata": {
        "id": "IKPr90121TEL"
      }
    },
    {
      "cell_type": "markdown",
      "source": [
        "## Problema da moeda\n",
        "Uma moeda, perfeitamente equilibrada, é lançada para o alto quatro vezes. Utilizando a distribuição binomial, obtenha a probabilidade de a moeda cair com a face coroa voltada para cima duas vezes."
      ],
      "metadata": {
        "id": "yTJyo268xpqd"
      }
    },
    {
      "cell_type": "code",
      "source": [
        "n = 4 \n",
        "p = 1/2\n",
        "q = 1 - p\n",
        "k = 2\n",
        "\n",
        "probabilidade = binom.pmf(k,n,p)"
      ],
      "metadata": {
        "id": "hAn81IY0xstg"
      },
      "execution_count": 92,
      "outputs": []
    },
    {
      "cell_type": "markdown",
      "source": [
        "## Problema do Dado\n",
        "Um dado, perfeitamente equilibrado, é lançado para o alto dez vezes. Utilizando a distribuição binomial, obtenha a probabilidade de o dado cair com o número cinco voltado para cima pelo menos três vezes."
      ],
      "metadata": {
        "id": "_1mcDwU1y2c1"
      }
    },
    {
      "cell_type": "code",
      "source": [
        "# numero de ensaios\n",
        "n = 10"
      ],
      "metadata": {
        "id": "kQNbm2MVy5A0"
      },
      "execution_count": 93,
      "outputs": []
    },
    {
      "cell_type": "code",
      "source": [
        "# probabilidade de sucesso\n",
        "possiveis_resultados = 6\n",
        "p = 1/possiveis_resultados\n",
        "p\n",
        "\n",
        "# chance de cair o numero 5 dentre as 6 possibilidades = 16.666%"
      ],
      "metadata": {
        "colab": {
          "base_uri": "https://localhost:8080/"
        },
        "id": "l0bckYMTzE6M",
        "outputId": "a1ac3ec7-130a-4897-f21f-a89b78220e40"
      },
      "execution_count": 94,
      "outputs": [
        {
          "output_type": "execute_result",
          "data": {
            "text/plain": [
              "0.16666666666666666"
            ]
          },
          "metadata": {},
          "execution_count": 94
        }
      ]
    },
    {
      "cell_type": "code",
      "source": [
        "# possibilidade de fracasso\n",
        "q = 1 - p\n",
        "q\n",
        "\n",
        "# chance de cair qualqwuer outro dos 5 numeros restantes. "
      ],
      "metadata": {
        "colab": {
          "base_uri": "https://localhost:8080/"
        },
        "id": "u4I57icHzYvH",
        "outputId": "c281b937-becd-4db5-8c39-2e7e2a82eec3"
      },
      "execution_count": 95,
      "outputs": [
        {
          "output_type": "execute_result",
          "data": {
            "text/plain": [
              "0.8333333333333334"
            ]
          },
          "metadata": {},
          "execution_count": 95
        }
      ]
    },
    {
      "cell_type": "code",
      "source": [
        "#quantas vezes espera-se obter sucesso ;\n",
        "k = range(3,10)\n",
        "# pelo menos 3, mas qualquer coisa acima vale, como manda a lógica. "
      ],
      "metadata": {
        "id": "_J8t-qb6zonE"
      },
      "execution_count": 96,
      "outputs": []
    },
    {
      "cell_type": "code",
      "source": [
        "probabilidade = binom.sf(2,n,p)\n",
        "probabilidade"
      ],
      "metadata": {
        "colab": {
          "base_uri": "https://localhost:8080/"
        },
        "id": "fxp0RDnmz1fv",
        "outputId": "48e90a2e-6df0-443a-cd77-2acc52802454"
      },
      "execution_count": 99,
      "outputs": [
        {
          "output_type": "execute_result",
          "data": {
            "text/plain": [
              "0.22477320212874052"
            ]
          },
          "metadata": {},
          "execution_count": 99
        }
      ]
    },
    {
      "cell_type": "markdown",
      "source": [
        "## Exemplo Gincana\n",
        "Uma cidade do interior realiza todos os anos uma gincana para arrecadar fundos para o hospital da cidade. Na última gincana se sabe que a proporção de participantes do sexo feminino foi de 60%. O total de equipes, com 12 integrantes, inscritas na gincana deste ano é de 30. Com as informações acima responda: Quantas equipes deverão ser formadas por 8 mulheres?"
      ],
      "metadata": {
        "id": "AiMmhJx01VsT"
      }
    },
    {
      "cell_type": "code",
      "source": [
        "n = 12\n",
        "n"
      ],
      "metadata": {
        "colab": {
          "base_uri": "https://localhost:8080/"
        },
        "id": "3a8j610m1Yvd",
        "outputId": "36787ff5-1fd5-4db3-c6b6-f0b61c8bd1b5"
      },
      "execution_count": 100,
      "outputs": [
        {
          "output_type": "execute_result",
          "data": {
            "text/plain": [
              "12"
            ]
          },
          "metadata": {},
          "execution_count": 100
        }
      ]
    },
    {
      "cell_type": "code",
      "source": [
        "p = 0.6\n",
        "p"
      ],
      "metadata": {
        "colab": {
          "base_uri": "https://localhost:8080/"
        },
        "id": "EgL4yg4E1Y0i",
        "outputId": "2b9925dd-acb7-41f9-b022-a56fea697785"
      },
      "execution_count": 102,
      "outputs": [
        {
          "output_type": "execute_result",
          "data": {
            "text/plain": [
              "0.6"
            ]
          },
          "metadata": {},
          "execution_count": 102
        }
      ]
    },
    {
      "cell_type": "code",
      "source": [
        "k = 8\n",
        "k"
      ],
      "metadata": {
        "colab": {
          "base_uri": "https://localhost:8080/"
        },
        "id": "QBS529Af4BdE",
        "outputId": "ddf132af-e151-46df-8523-8d95ca110c8f"
      },
      "execution_count": 104,
      "outputs": [
        {
          "output_type": "execute_result",
          "data": {
            "text/plain": [
              "8"
            ]
          },
          "metadata": {},
          "execution_count": 104
        }
      ]
    },
    {
      "cell_type": "code",
      "source": [
        "probabilidade = binom.pmf(k,n,p)\n",
        "probabilidade"
      ],
      "metadata": {
        "colab": {
          "base_uri": "https://localhost:8080/"
        },
        "id": "7w5FfuE34Fii",
        "outputId": "7e1b4a2f-fd5b-4076-df55-287c95d57231"
      },
      "execution_count": 105,
      "outputs": [
        {
          "output_type": "execute_result",
          "data": {
            "text/plain": [
              "0.2128409395199996"
            ]
          },
          "metadata": {},
          "execution_count": 105
        }
      ]
    },
    {
      "cell_type": "code",
      "source": [
        "probabilidade_equipes = 30 * probabilidade\n",
        "probabilidade_equipes"
      ],
      "metadata": {
        "colab": {
          "base_uri": "https://localhost:8080/"
        },
        "id": "YKPU7Fpt4Pel",
        "outputId": "6ec7cf70-cf9b-4a41-dccb-3b9c858e4006"
      },
      "execution_count": 107,
      "outputs": [
        {
          "output_type": "execute_result",
          "data": {
            "text/plain": [
              "6.385228185599988"
            ]
          },
          "metadata": {},
          "execution_count": 107
        }
      ]
    },
    {
      "cell_type": "markdown",
      "source": [
        "## Chance olhos azuis\n",
        "Suponha que a probabilidade de um casal ter filhos com olhos azuis seja de 22%. Em 50 famílias, com 3 crianças cada uma, quantas podemos esperar que tenham dois filhos com olhos azuis"
      ],
      "metadata": {
        "id": "ELupUK9W4dLl"
      }
    },
    {
      "cell_type": "code",
      "source": [
        "p = 0.22\n",
        "p"
      ],
      "metadata": {
        "colab": {
          "base_uri": "https://localhost:8080/"
        },
        "id": "hTnFBYon4le0",
        "outputId": "fe63869b-1c00-4544-8c92-2a33f70372b6"
      },
      "execution_count": 108,
      "outputs": [
        {
          "output_type": "execute_result",
          "data": {
            "text/plain": [
              "0.22"
            ]
          },
          "metadata": {},
          "execution_count": 108
        }
      ]
    },
    {
      "cell_type": "code",
      "source": [
        "n = 3\n",
        "n"
      ],
      "metadata": {
        "colab": {
          "base_uri": "https://localhost:8080/"
        },
        "id": "yShW7HDM4-U9",
        "outputId": "ecc59b97-2ae1-4b79-c37d-32ef3ec95464"
      },
      "execution_count": 109,
      "outputs": [
        {
          "output_type": "execute_result",
          "data": {
            "text/plain": [
              "3"
            ]
          },
          "metadata": {},
          "execution_count": 109
        }
      ]
    },
    {
      "cell_type": "code",
      "source": [
        "k = 2\n",
        "k"
      ],
      "metadata": {
        "colab": {
          "base_uri": "https://localhost:8080/"
        },
        "id": "dkjd5DEq5TzE",
        "outputId": "2ebc4e4d-1774-4bac-bddc-7b973ee6b173"
      },
      "execution_count": 111,
      "outputs": [
        {
          "output_type": "execute_result",
          "data": {
            "text/plain": [
              "2"
            ]
          },
          "metadata": {},
          "execution_count": 111
        }
      ]
    },
    {
      "cell_type": "code",
      "source": [
        "probabilidade = binom.pmf(k,n,p)\n",
        "prob = 50 * probabilidade\n",
        "prob"
      ],
      "metadata": {
        "colab": {
          "base_uri": "https://localhost:8080/"
        },
        "id": "fPTAyVh05YLh",
        "outputId": "ae60f254-04a4-4101-8b8b-d47b2d34882d"
      },
      "execution_count": 115,
      "outputs": [
        {
          "output_type": "execute_result",
          "data": {
            "text/plain": [
              "5.662799999999999"
            ]
          },
          "metadata": {},
          "execution_count": 115
        }
      ]
    }
  ]
}